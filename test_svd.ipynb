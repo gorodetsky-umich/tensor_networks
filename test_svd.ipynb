{
 "cells": [
  {
   "cell_type": "code",
   "execution_count": 1,
   "metadata": {},
   "outputs": [],
   "source": [
    "import numpy as np"
   ]
  },
  {
   "cell_type": "code",
   "execution_count": 69,
   "metadata": {},
   "outputs": [],
   "source": [
    "x = np.random.randn(10,5,10)"
   ]
  },
  {
   "cell_type": "code",
   "execution_count": 70,
   "metadata": {},
   "outputs": [],
   "source": [
    "xu, xs, xv = np.linalg.svd(x.reshape(10, 50), False)"
   ]
  },
  {
   "cell_type": "code",
   "execution_count": 71,
   "metadata": {},
   "outputs": [
    {
     "data": {
      "text/plain": [
       "10"
      ]
     },
     "execution_count": 71,
     "metadata": {},
     "output_type": "execute_result"
    }
   ],
   "source": [
    "len(xs)"
   ]
  },
  {
   "cell_type": "code",
   "execution_count": 72,
   "metadata": {},
   "outputs": [],
   "source": [
    "delta = 0.1 * np.linalg.norm(x)"
   ]
  },
  {
   "cell_type": "code",
   "execution_count": 73,
   "metadata": {},
   "outputs": [],
   "source": [
    "xs_list = list(xs * xs)\n",
    "xs_list.reverse()"
   ]
  },
  {
   "cell_type": "code",
   "execution_count": 74,
   "metadata": {},
   "outputs": [
    {
     "data": {
      "text/plain": [
       "array([ 19.91980028,  42.31974494,  72.00174746, 102.96931833,\n",
       "       143.01357806, 198.49217203, 261.43030127, 333.05622813,\n",
       "       410.93516719, 514.44120308])"
      ]
     },
     "execution_count": 74,
     "metadata": {},
     "output_type": "execute_result"
    }
   ],
   "source": [
    "np.cumsum(xs_list)"
   ]
  },
  {
   "cell_type": "code",
   "execution_count": 75,
   "metadata": {},
   "outputs": [
    {
     "data": {
      "text/plain": [
       "np.float64(128.6103007688906)"
      ]
     },
     "execution_count": 75,
     "metadata": {},
     "output_type": "execute_result"
    }
   ],
   "source": [
    "delta = 0.5 * np.linalg.norm(x)\n",
    "delta ** 2"
   ]
  },
  {
   "cell_type": "code",
   "execution_count": 76,
   "metadata": {},
   "outputs": [],
   "source": [
    "y = np.diag(xs)@xv\n",
    "y = y.reshape(10, 5, 10).reshape(50, 10)\n",
    "yu, ys, yv = np.linalg.svd(y, False)"
   ]
  },
  {
   "cell_type": "code",
   "execution_count": 77,
   "metadata": {},
   "outputs": [
    {
     "data": {
      "text/plain": [
       "array([9.42445547, 8.60140345, 8.46341856, 8.11418914, 7.87489602,\n",
       "       6.34708836, 6.01524307, 5.62788447, 4.93255011, 4.4363702 ])"
      ]
     },
     "execution_count": 77,
     "metadata": {},
     "output_type": "execute_result"
    }
   ],
   "source": [
    "ys"
   ]
  },
  {
   "cell_type": "code",
   "execution_count": 78,
   "metadata": {},
   "outputs": [],
   "source": [
    "y1 = np.diag(xs[:9]) @ xv[:9]\n",
    "y1 = y1.reshape(9,5,10).reshape(45, 10)\n",
    "y1u, y1s, y1v = np.linalg.svd(y1, False)"
   ]
  },
  {
   "cell_type": "code",
   "execution_count": 83,
   "metadata": {},
   "outputs": [
    {
     "data": {
      "text/plain": [
       "np.float64(494.5214027952504)"
      ]
     },
     "execution_count": 83,
     "metadata": {},
     "output_type": "execute_result"
    }
   ],
   "source": [
    "sum(y1s ** 2)"
   ]
  },
  {
   "cell_type": "code",
   "execution_count": 80,
   "metadata": {},
   "outputs": [],
   "source": [
    "y2 = np.diag(xs[:8]) @ xv[:8]\n",
    "y2 = y2.reshape(8,5,10).reshape(40, 10)\n",
    "y2u, y2s, y2v = np.linalg.svd(y2, False)"
   ]
  },
  {
   "cell_type": "code",
   "execution_count": 85,
   "metadata": {},
   "outputs": [
    {
     "name": "stdout",
     "output_type": "stream",
     "text": [
      "-22.39994465682429 22.39994465682396\n"
     ]
    }
   ],
   "source": [
    "print(sum(y2s ** 2) - sum(y1s ** 2), xs[8] ** 2)"
   ]
  },
  {
   "cell_type": "code",
   "execution_count": 88,
   "metadata": {},
   "outputs": [
    {
     "data": {
      "text/plain": [
       "array([-2.77522989, -0.91772289, -0.77935616, -1.48696799, -2.07726949,\n",
       "       -4.91076268, -1.53423529, -4.12996343, -1.90248267, -1.88595416])"
      ]
     },
     "execution_count": 88,
     "metadata": {},
     "output_type": "execute_result"
    }
   ],
   "source": [
    "(y2s ** 2) - (y1s ** 2)"
   ]
  },
  {
   "cell_type": "code",
   "execution_count": 31,
   "metadata": {},
   "outputs": [],
   "source": [
    "xxu, xxs, xxv = np.linalg.svd(x.reshape(50, 10), False)"
   ]
  },
  {
   "cell_type": "code",
   "execution_count": 32,
   "metadata": {},
   "outputs": [
    {
     "data": {
      "text/plain": [
       "array([10.27440391,  8.80359285,  7.86556037,  7.29924234,  6.81819071,\n",
       "        6.48158369,  6.19179624,  5.97844581,  4.9486264 ,  4.46473037])"
      ]
     },
     "execution_count": 32,
     "metadata": {},
     "output_type": "execute_result"
    }
   ],
   "source": [
    "xxs"
   ]
  },
  {
   "cell_type": "code",
   "execution_count": 49,
   "metadata": {},
   "outputs": [],
   "source": [
    "# prototype for TT\n",
    "x = np.random.randn(10, 5, 10)\n",
    "delta = (0.5 * np.linalg.norm(x)) ** 2\n",
    "\n",
    "x_u, x_s, x_v = np.linalg.svd(x.reshape(10, 50), False)\n",
    "x_s_list = list(x_s * x_s)\n",
    "x_s_list.reverse()\n",
    "x_cut = [i for i in np.cumsum(x_s_list) if i <= delta]\n",
    "x_rank = max(1, len(x_s) - len(x_cut))\n",
    "x_delta = delta - x_cut[-1] if len(x_cut) > 0 else delta\n",
    "\n",
    "# divide tt1 into two parts, truncation and residual\n",
    "x_residual_u, x_residual_s, x_residual_v = x_u[:, :x_rank], x_s[:x_rank], x_v[:x_rank]\n",
    "x_truncate_u, x_truncate_s, x_truncate_v = x_u[:, x_rank:], x_s[x_rank:], x_v[x_rank:]\n",
    "\n",
    "y_residual = np.diag(x_residual_s) @ x_residual_v\n",
    "y_truncate = np.diag(x_truncate_s) @ x_truncate_v\n",
    "\n",
    "# simultaneously truncate the second part\n",
    "y_residual_u, y_residual_s, y_residual_v = np.linalg.svd(y_residual.reshape(x_rank, 5, 10).reshape(5 * x_rank, 10), False)\n",
    "y_residual_s_list = list(y_residual_s ** 2)\n",
    "y_residual_s_list.reverse()\n",
    "y_residual_cut = [i for i in np.cumsum(y_residual_s_list) if i <= x_delta]\n",
    "y_residual_rank = max(1, len(y_residual_s) - len(y_residual_cut))\n",
    "y_delta = x_delta - y_residual_cut[-1] if len(y_residual_cut) > 0 else x_delta\n",
    "\n",
    "y_residual_residual_u, y_residual_residual_s, y_residual_residual_v = y_residual_u[:, :y_residual_rank], y_residual_s[:y_residual_rank], y_residual_v[:y_residual_rank]\n",
    "y_residual_truncate_u, y_residual_truncate_s, y_residual_truncate_v = y_residual_u[:, y_residual_rank:], y_residual_s[y_residual_rank:], y_residual_v[y_residual_rank:]\n",
    "\n",
    "y_truncate_u, y_truncate_s, y_truncate_v = np.linalg.svd(y_truncate.reshape(10 - x_rank, 5, 10).reshape(5 * (10 - x_rank), 10), False)"
   ]
  },
  {
   "cell_type": "code",
   "execution_count": 50,
   "metadata": {},
   "outputs": [
    {
     "name": "stdout",
     "output_type": "stream",
     "text": [
      "x rank 6\n",
      "y_residual rank 9\n"
     ]
    }
   ],
   "source": [
    "print(\"x rank\", x_rank)\n",
    "print(\"y_residual rank\", y_residual_rank)"
   ]
  },
  {
   "cell_type": "code",
   "execution_count": 68,
   "metadata": {},
   "outputs": [
    {
     "name": "stdout",
     "output_type": "stream",
     "text": [
      "122.43054530574081 7.0252113069868045 1.8086136412677964\n",
      "[np.float64(115.405333998754), np.float64(80.91250892571054), np.float64(49.24406256391087), np.float64(21.938619228995485)]\n",
      "420\n",
      "475\n",
      "430\n",
      "385\n",
      "340\n",
      "295\n",
      "530\n",
      "480\n",
      "430\n",
      "380\n",
      "585\n",
      "530\n",
      "475\n",
      "(1, 4)\n"
     ]
    }
   ],
   "source": [
    "print(delta, x_delta, y_delta)\n",
    "# Do we have better error distribution?\n",
    "# If we would like the x_rank to increase and y_rank to decrease\n",
    "# we have two variables x and y\n",
    "x_cut.reverse()\n",
    "print(x_cut)\n",
    "x_used_delta = [delta - x_delta] + [delta - x_delta - i for i in x_cut]\n",
    "y_used_delta = [x_delta - y_delta] + [x_delta - y_delta + i for i in np.cumsum(y_residual_s_list[len(y_residual_cut):])]\n",
    "# We need to choose proper x and y so that 10 * x + 5 * x * y + 10 * y is minimized\n",
    "# Naive solver, consider all possible values for x and y\n",
    "best_cost = 10 * x_rank + 5 * x_rank * y_residual_rank + 10 * y_residual_rank\n",
    "best_ranks = None\n",
    "for x in range(len(x_s) - x_rank):\n",
    "  for y in range(y_residual_rank):\n",
    "    # print(x, y)\n",
    "    if x_used_delta[x] + y_used_delta[y] <= delta:\n",
    "        cost = 10 * (x + x_rank) + 5 * (x + x_rank) * (y_residual_rank - y) + 10 * (y_residual_rank - y)\n",
    "        print(cost)\n",
    "        if cost < best_cost:\n",
    "           best_cost = cost\n",
    "           best_ranks = (x, y)\n",
    "\n",
    "print(best_ranks)"
   ]
  },
  {
   "cell_type": "code",
   "execution_count": 1,
   "metadata": {},
   "outputs": [],
   "source": [
    "import numpy as np"
   ]
  },
  {
   "cell_type": "code",
   "execution_count": 2,
   "metadata": {},
   "outputs": [
    {
     "name": "stdout",
     "output_type": "stream",
     "text": [
      "[3.55104197 1.65567968 1.35505927 0.67131149]\n"
     ]
    }
   ],
   "source": [
    "x = np.random.randn(4,5)\n",
    "xu, xs, xv = np.linalg.svd(x)\n",
    "print(xs)"
   ]
  },
  {
   "cell_type": "code",
   "execution_count": 3,
   "metadata": {},
   "outputs": [],
   "source": [
    "xu = xu[:,:2]\n",
    "xv = xv[:2]\n",
    "xs = xs[:2]\n",
    "y = xu @ np.diag(xs) @ xv"
   ]
  },
  {
   "cell_type": "code",
   "execution_count": 4,
   "metadata": {},
   "outputs": [
    {
     "data": {
      "text/plain": [
       "array([3.55104197e+00, 1.65567968e+00, 2.90743841e-16, 1.02171449e-16])"
      ]
     },
     "execution_count": 4,
     "metadata": {},
     "output_type": "execute_result"
    }
   ],
   "source": [
    "yu, ys, yv = np.linalg.svd(y)\n",
    "ys"
   ]
  },
  {
   "cell_type": "code",
   "execution_count": 8,
   "metadata": {},
   "outputs": [],
   "source": [
    "xvu, xvs, xvv = np.linalg.svd(xv)\n",
    "yy = xu @ np.diag(xs) @ xvu[:,:1]"
   ]
  },
  {
   "cell_type": "code",
   "execution_count": 9,
   "metadata": {},
   "outputs": [
    {
     "data": {
      "text/plain": [
       "array([3.55104197])"
      ]
     },
     "execution_count": 9,
     "metadata": {},
     "output_type": "execute_result"
    }
   ],
   "source": [
    "yyu, yys, yyv = np.linalg.svd(yy)\n",
    "yys"
   ]
  },
  {
   "cell_type": "code",
   "execution_count": 10,
   "metadata": {},
   "outputs": [
    {
     "data": {
      "text/plain": [
       "array([3.55104197, 1.65567968])"
      ]
     },
     "execution_count": 10,
     "metadata": {},
     "output_type": "execute_result"
    }
   ],
   "source": [
    "svu, svs, svv = np.linalg.svd(np.diag(xs) @ xv)\n",
    "svs"
   ]
  },
  {
   "cell_type": "code",
   "execution_count": 19,
   "metadata": {},
   "outputs": [
    {
     "data": {
      "image/png": "[encoded data removed]",
      "text/plain": [
       "<Figure size 640x480 with 1 Axes>"
      ]
     },
     "metadata": {},
     "output_type": "display_data"
    }
   ],
   "source": [
    "from pytens.algs import *\n",
    "from benchmarks.benchmark import *\n",
    "import json\n",
    "\n",
    "with open(\"benchmarks/BigEarthNet-v1_0_stack/stack_18_test_2/ht_010.json\") as json_file:\n",
    "  bd = json.load(json_file)\n",
    "\n",
    "benchmark = Benchmark(**bd)\n",
    "net = benchmark.to_network()\n",
    "\n",
    "net.compress()\n",
    "net.draw()\n",
    "\n",
    "import matplotlib.pyplot as plt\n",
    "\n",
    "plt.show()"
   ]
  },
  {
   "cell_type": "code",
   "execution_count": 224,
   "metadata": {},
   "outputs": [],
   "source": [
    "import numpy as np\n",
    "target_tensor = np.load(\"data/BigEarthNet-v1_0_stack/stack_18_test_2/data.npy\").astype(np.float32)"
   ]
  },
  {
   "cell_type": "code",
   "execution_count": 3,
   "metadata": {},
   "outputs": [
    {
     "data": {
      "text/plain": [
       "{'split': 2098,\n",
       " 'merge': 992,\n",
       " 'split time': 9.894572734832764,\n",
       " 'count': 2694,\n",
       " 'compression': [(0.0033359527587890625, 1.090041851304776),\n",
       "  (0.006696939468383789, 1.2577718597425656),\n",
       "  (0.010377883911132812, 1.1370698510529018),\n",
       "  (0.013307809829711914, 1.0929005584523772),\n",
       "  (0.015830039978027344, 1.0924623735504564),\n",
       "  (0.019189119338989258, 1.0239939870490287),\n",
       "  (0.021937847137451172, 1.0131861216784417),\n",
       "  (0.024435997009277344, 1.0),\n",
       "  (0.026855945587158203, 0.9981402164111812),\n",
       "  (0.029623746871948242, 1.0108297067846186),\n",
       "  (0.030338764190673828, 0.8573434020718366),\n",
       "  (0.031128883361816406, 0.5019271099019441),\n",
       "  (0.03220486640930176, 0.4268739455290431),\n",
       "  (0.032750844955444336, 0.7227209662939689),\n",
       "  (0.03339195251464844, 0.7975054034582133),\n",
       "  (0.03987383842468262, 1.297414108856494),\n",
       "  (0.04183793067932129, 1.330104014118884),\n",
       "  (0.04452109336853027, 1.3191568598242216),\n",
       "  (0.04686903953552246, 1.4094381664809805),\n",
       "  (0.04951596260070801, 1.2323267464514334),\n",
       "  (0.0556490421295166, 1.3125822170344432),\n",
       "  (0.059509992599487305, 1.2374930128563444),\n",
       "  (0.06657695770263672, 0.7283606641649103),\n",
       "  (0.06694293022155762, 0.8043781862772927),\n",
       "  (0.06722784042358398, 0.8652913658959608),\n",
       "  (0.07287192344665527, 0.42883517654251485),\n",
       "  (0.07321882247924805, 1.3305536774096611),\n",
       "  (0.07347488403320312, 1.0),\n",
       "  (0.07737493515014648, 1.0112625794018986),\n",
       "  (0.08139395713806152, 1.0237276379295397),\n",
       "  (0.08716297149658203, 1.2879790560686495),\n",
       "  (0.09355497360229492, 1.3300540702913788),\n",
       "  (0.09711074829101562, 1.261826731262468),\n",
       "  (0.1080479621887207, 1.0270967741935484),\n",
       "  (0.11148381233215332, 1.0563640701419539),\n",
       "  (0.11342382431030273, 0.8131398925669161),\n",
       "  (0.11373281478881836, 0.8638248061259328),\n",
       "  (0.11403894424438477, 0.8749197253371536),\n",
       "  (0.1165609359741211, 0.5079005477330734),\n",
       "  (0.11704087257385254, 1.3206323167549028),\n",
       "  (0.1174778938293457, 1.0),\n",
       "  (0.12196493148803711, 1.1127795928625284),\n",
       "  (0.12419986724853516, 1.2995322388333486),\n",
       "  (0.12599682807922363, 1.3201893332339458),\n",
       "  (0.12820196151733398, 1.3257976981379245),\n",
       "  (0.13008999824523926, 1.3749708873534663),\n",
       "  (0.13231182098388672, 1.261826731262468),\n",
       "  (0.14368104934692383, 1.14404754214844),\n",
       "  (0.14415597915649414, 1.0027175451508803),\n",
       "  (0.14484000205993652, 0.6379813407298008),\n",
       "  (0.14528584480285645, 0.7916946046220553),\n",
       "  (0.1456468105316162, 0.8823294973347282),\n",
       "  (0.14632391929626465, 1.3206323167549028),\n",
       "  (0.14670276641845703, 1.0),\n",
       "  (0.151472806930542, 1.3125822170344432),\n",
       "  (0.15379881858825684, 1.2281182283089191),\n",
       "  (0.15574193000793457, 1.2573700370942265),\n",
       "  (0.15810489654541016, 1.2475829884652636),\n",
       "  (0.15999293327331543, 1.3280344924547756),\n",
       "  (0.1625978946685791, 1.169641235615579),\n",
       "  (0.17093515396118164, 1.1742942863299575),\n",
       "  (0.17136693000793457, 1.1133217041472192),\n",
       "  (0.17172002792358398, 0.848380336506796),\n",
       "  (0.17205405235290527, 0.9533190693418379),\n",
       "  (0.17290592193603516, 0.6479890971288497),\n",
       "  (0.17316985130310059, 1.3305536774096611),\n",
       "  (0.17348480224609375, 1.0),\n",
       "  (0.1767559051513672, 1.1485360396874291),\n",
       "  (0.18150091171264648, 1.1269944798841889),\n",
       "  (0.18804478645324707, 1.192238434223591),\n",
       "  (0.19216585159301758, 1.1838112425639997),\n",
       "  (0.1954970359802246, 1.1364132178376645),\n",
       "  (0.19860005378723145, 1.183218091325116),\n",
       "  (0.2023308277130127, 1.101704404080617),\n",
       "  (0.20931482315063477, 0.8670175009178803),\n",
       "  (0.21188783645629883, 0.5052274250830825),\n",
       "  (0.21727490425109863, 0.42925871617445677),\n",
       "  (0.21762681007385254, 0.8058696394039359),\n",
       "  (0.21816492080688477, 1.1488713025428126),\n",
       "  (0.21844196319580078, 1.0),\n",
       "  (0.22183609008789062, 1.1364132178376645),\n",
       "  (0.22472500801086426, 1.0925971622455275),\n",
       "  (0.22982406616210938, 1.0730850209788092),\n",
       "  (0.2358229160308838, 1.1320730596525992),\n",
       "  (0.23951387405395508, 1.1244722389765405),\n",
       "  (0.24799895286560059, 1.1239370478487118),\n",
       "  (0.25155210494995117, 1.050131926121372),\n",
       "  (0.25189208984375, 0.9362230738733976),\n",
       "  (0.2522130012512207, 0.9247356741939694),\n",
       "  (0.25445103645324707, 0.5242965616257901),\n",
       "  (0.2553417682647705, 0.6704014232450745),\n",
       "  (0.2556149959564209, 1.1488713025428126),\n",
       "  (0.255983829498291, 1.0),\n",
       "  (0.2606630325317383, 1.073637948018489),\n",
       "  (0.26306891441345215, 1.0789686105484397),\n",
       "  (0.2651858329772949, 1.0931703854581365),\n",
       "  (0.26778197288513184, 1.1093816063514932),\n",
       "  (0.270082950592041, 1.1461946673569765),\n",
       "  (0.27324914932250977, 1.0360945360945362),\n",
       "  (0.2776970863342285, 1.0910490975174028),\n",
       "  (0.28226280212402344, 1.1226368750495206),\n",
       "  (0.2874131202697754, 1.0519719648372534),\n",
       "  (0.2965528964996338, 0.7217490525286279),\n",
       "  (0.2969028949737549, 0.796322107818893),\n",
       "  (0.2975277900695801, 0.501458138678898),\n",
       "  (0.3055238723754883, 0.4265346916166944),\n",
       "  (0.3060638904571533, 1.0934741001420016),\n",
       "  (0.3063030242919922, 1.0),\n",
       "  (0.30899691581726074, 1.0910490975174028),\n",
       "  (0.31157779693603516, 1.070328906615903),\n",
       "  (0.3144960403442383, 1.0756266796228535),\n",
       "  (0.31699681282043457, 1.089740039993847),\n",
       "  (0.31990504264831543, 1.105848929959571),\n",
       "  (0.3226609230041504, 1.142424046958653),\n",
       "  (0.3259899616241455, 1.0330125400991543),\n",
       "  (0.3339989185333252, 1.11901941272173),\n",
       "  (0.3380260467529297, 1.048794931012021),\n",
       "  (0.3404507637023926, 0.5689732716525315),\n",
       "  (0.3408479690551758, 0.7686065182484919),\n",
       "  (0.34138989448547363, 0.8537478910580862),\n",
       "  (0.3425889015197754, 0.4921772960955954),\n",
       "  (0.34281086921691895, 1.0934741001420016),\n",
       "  (0.34307003021240234, 1.0),\n",
       "  (0.3499908447265625, 0.4921772960955954),\n",
       "  (0.3578629493713379, 0.6479890971288497),\n",
       "  (0.3665800094604492, 0.6704014232450745),\n",
       "  (0.3722529411315918, 0.620285083879102),\n",
       "  (0.386854887008667, 1.3206323167549028),\n",
       "  (0.40097784996032715, 1.1705108717203092),\n",
       "  (0.41046786308288574, 1.2420927133740094),\n",
       "  (0.41759181022644043, 0.42925871617445677),\n",
       "  (0.42204904556274414, 0.4268739455290431),\n",
       "  (0.4265470504760742, 0.4265346916166944),\n",
       "  (0.43422698974609375, 0.42883517654251485),\n",
       "  (0.43800997734069824, 0.33721749395479905),\n",
       "  (0.44081687927246094, 0.16140379655703493),\n",
       "  (0.4431118965148926, 0.16140379655703493),\n",
       "  (0.4450819492340088, 0.22055765183497092),\n",
       "  (0.4513099193572998, 0.5689732716525315),\n",
       "  (0.45997095108032227, 0.6379813407298008),\n",
       "  (0.47073793411254883, 1.3305536774096611),\n",
       "  (0.47653889656066895, 0.5242965616257901),\n",
       "  (0.48190808296203613, 0.5241956965696866),\n",
       "  (0.48764801025390625, 0.5079005477330734),\n",
       "  (0.49269580841064453, 0.5052274250830825),\n",
       "  (0.49748897552490234, 0.5019271099019441),\n",
       "  (0.5033400058746338, 0.501458138678898),\n",
       "  (0.5041780471801758, 0.40600142126859684),\n",
       "  (0.5390620231628418, 0.16140379655703493),\n",
       "  (0.5395898818969727, 0.42087878139778045),\n",
       "  (0.5399937629699707, 0.4451901565995526),\n",
       "  (0.5434739589691162, 0.7686065182484919),\n",
       "  (0.5473558902740479, 0.848380336506796),\n",
       "  (0.5518558025360107, 0.7916946046220553),\n",
       "  (0.5548927783966064, 0.871947617172115),\n",
       "  (0.5594220161437988, 0.8131398925669161),\n",
       "  (0.565330982208252, 1.1488713025428126),\n",
       "  (0.5688819885253906, 0.7227209662939689),\n",
       "  (0.5727097988128662, 0.7217490525286279),\n",
       "  (0.5764827728271484, 0.7283606641649103),\n",
       "  (0.5773000717163086, 0.645138964776163),\n",
       "  (0.5781347751617432, 0.42087878139778045),\n",
       "  (0.5806307792663574, 0.16140379655703493),\n",
       "  (0.5816209316253662, 0.47753990509059535),\n",
       "  (0.5866267681121826, 1.1034203476418916),\n",
       "  (0.589622974395752, 1.090511668000739),\n",
       "  (0.5926957130432129, 1.1006260972237327),\n",
       "  (0.5959539413452148, 1.1431614277415607),\n",
       "  (0.5993249416351318, 1.3538708506124946),\n",
       "  (0.603240966796875, 1.229845149642386),\n",
       "  (0.6079471111297607, 1.146268849912627),\n",
       "  (0.6123809814453125, 1.0930017279684028),\n",
       "  (0.6173560619354248, 1.084169931439765),\n",
       "  (0.626183032989502, 0.8573434020718366),\n",
       "  (0.6286458969116211, 0.5019271099019441),\n",
       "  (0.6398768424987793, 0.4268739455290431),\n",
       "  (0.6402828693389893, 0.7227209662939689),\n",
       "  (0.6405489444732666, 1.0932716049382716),\n",
       "  (0.6408028602600098, 1.0),\n",
       "  (0.645892858505249, 0.8537478910580862),\n",
       "  (0.650183916091919, 0.9533190693418379),\n",
       "  (0.6555798053741455, 0.8823294973347282),\n",
       "  (0.6608798503875732, 0.9362230738733976),\n",
       "  (0.6657779216766357, 0.8638248061259328),\n",
       "  (0.670522928237915, 1.0932716049382716),\n",
       "  (0.6741518974304199, 0.8058696394039359),\n",
       "  (0.6786808967590332, 0.796322107818893),\n",
       "  (0.6828889846801758, 0.8043781862772927),\n",
       "  (0.6836159229278564, 0.7040747366328761),\n",
       "  (0.6844379901885986, 0.4451901565995526),\n",
       "  (0.6862621307373047, 0.22055765183497092),\n",
       "  (0.6888649463653564, 0.47753990509059535),\n",
       "  (0.6924717426300049, 1.102596028139202),\n",
       "  (0.6956560611724854, 1.0930017279684028),\n",
       "  (0.6987359523773193, 1.0897065157201746),\n",
       "  (0.7017648220062256, 1.099805945820073),\n",
       "  (0.705333948135376, 1.1422766849403418),\n",
       "  (0.7097008228302002, 1.3526300715990454),\n",
       "  (0.7138619422912598, 1.2288212030805523),\n",
       "  (0.7241790294647217, 1.1453792925046886),\n",
       "  (0.7283778190612793, 1.0833741130413506),\n",
       "  (0.7293100357055664, 0.871947617172115),\n",
       "  (0.7296557426452637, 0.9244219426901196),\n",
       "  (0.7318878173828125, 0.5241956965696866),\n",
       "  (0.7328598499298096, 0.620285083879102),\n",
       "  (0.7332308292388916, 1.0932716049382716),\n",
       "  (0.7334690093994141, 1.0),\n",
       "  (0.739346981048584, 1.1133217041472192),\n",
       "  (0.7457060813903809, 1.0027175451508803),\n",
       "  (0.7507178783416748, 1.0934741001420016),\n",
       "  (0.753699779510498, 0.9247356741939694),\n",
       "  (0.756458044052124, 0.9244219426901196),\n",
       "  (0.7602279186248779, 0.8749197253371536),\n",
       "  (0.7632589340209961, 0.8670175009178803),\n",
       "  (0.765967845916748, 0.8573434020718366),\n",
       "  (0.7709488868713379, 0.8652913658959608),\n",
       "  (0.7719917297363281, 0.40600142126859684),\n",
       "  (0.7828707695007324, 0.33721749395479905),\n",
       "  (0.7832961082458496, 0.645138964776163),\n",
       "  (0.7837300300598145, 0.7040747366328761),\n",
       "  (0.7862458229064941, 1.073637948018489),\n",
       "  (0.7889308929443359, 1.0789686105484397),\n",
       "  (0.791607141494751, 1.0931703854581365),\n",
       "  (0.7955319881439209, 1.1093816063514932),\n",
       "  (0.798637866973877, 1.1461946673569765),\n",
       "  (0.8027400970458984, 1.0360945360945362),\n",
       "  (0.8149750232696533, 1.1226368750495206),\n",
       "  (0.8190929889678955, 1.0519719648372534),\n",
       "  (0.8214840888977051, 0.5699070051806803),\n",
       "  (0.8220529556274414, 0.7703114126652749),\n",
       "  (0.8233568668365479, 0.8558519377597371),\n",
       "  (0.8250000476837158, 0.49287582790671786),\n",
       "  (0.8254299163818359, 0.8573434020718366),\n",
       "  (0.8299729824066162, 1.073637948018489),\n",
       "  (0.8341848850250244, 1.0789686105484397),\n",
       "  (0.8377528190612793, 1.0931703854581365),\n",
       "  (0.8418059349060059, 1.1093816063514932),\n",
       "  (0.8451159000396729, 1.1461946673569765),\n",
       "  (0.8489909172058105, 1.0360945360945362),\n",
       "  (0.8600308895111084, 1.1226368750495206),\n",
       "  (0.865074872970581, 1.0519719648372534),\n",
       "  (0.8674449920654297, 0.5699070051806803),\n",
       "  (0.8680119514465332, 0.7703114126652749),\n",
       "  (0.8684868812561035, 0.8558519377597371),\n",
       "  (0.8699898719787598, 0.49287582790671786),\n",
       "  (0.8706309795379639, 0.8573434020718366),\n",
       "  (0.8772778511047363, 1.073637948018489),\n",
       "  (0.880033016204834, 1.0789686105484397),\n",
       "  (0.8831808567047119, 1.0931703854581365),\n",
       "  (0.886934757232666, 1.1093816063514932),\n",
       "  (0.8899209499359131, 1.1461946673569765),\n",
       "  (0.8934669494628906, 1.0360945360945362),\n",
       "  (0.8978989124298096, 1.1226368750495206),\n",
       "  (0.9028739929199219, 1.0519719648372534),\n",
       "  (0.9105930328369141, 0.7703114126652749),\n",
       "  (0.9108788967132568, 0.8558519377597371),\n",
       "  (0.911362886428833, 0.5699070051806803),\n",
       "  (0.9182999134063721, 0.49287582790671786),\n",
       "  (0.9186897277832031, 0.8573434020718366),\n",
       "  (0.9324297904968262, 0.18782942530198424),\n",
       "  (0.9503638744354248, 0.2540987428489446),\n",
       "  (0.9652829170227051, 0.24058301750954264),\n",
       "  (1.0049757957458496, 0.6910531039057318),\n",
       "  (1.0678958892822266, 0.9896624944121591),\n",
       "  (1.0921308994293213, 0.5393939393939394),\n",
       "  (1.1205718517303467, 0.6009432681867535),\n",
       "  (1.128798007965088, 0.16140379655703493),\n",
       "  (1.1375210285186768, 0.16135527130935462),\n",
       "  (1.1517748832702637, 0.16168338411329067),\n",
       "  (1.1628289222717285, 0.1259422021219103),\n",
       "  (1.1702847480773926, 0.05855243800437052),\n",
       "  (1.178210735321045, 0.08121592310831693),\n",
       "  (1.1986870765686035, 0.18782942530198424),\n",
       "  (1.2204349040985107, 0.26367229661830716),\n",
       "  (1.2367377281188965, 0.24058301750954264),\n",
       "  (1.2677388191223145, 0.6667796099691289),\n",
       "  (1.318436861038208, 0.8622687439143135),\n",
       "  (1.3435900211334229, 0.5393939393939394),\n",
       "  (1.3760809898376465, 0.6919440537583997),\n",
       "  (1.3879799842834473, 0.16174355368240328),\n",
       "  (1.4022841453552246, 0.16140379655703493),\n",
       "  (1.4190208911895752, 0.16135527130935462),\n",
       "  (1.421072006225586, 0.1259422021219103),\n",
       "  (1.4869670867919922, 0.05855243800437052),\n",
       "  (1.498896837234497, 0.08121592310831693),\n",
       "  (1.5141148567199707, 0.18782942530198424),\n",
       "  (1.5349247455596924, 0.2540987428489446),\n",
       "  (1.5472028255462646, 0.24058301750954264),\n",
       "  (1.5754880905151367, 0.6910531039057318),\n",
       "  (1.632260799407959, 0.9896624944121591),\n",
       "  (1.66074800491333, 0.5393939393939394),\n",
       "  (1.7002549171447754, 0.6009432681867535),\n",
       "  (1.7111968994140625, 0.16140379655703493),\n",
       "  (1.7201390266418457, 0.16135527130935462),\n",
       "  (1.7326829433441162, 0.16168338411329067),\n",
       "  (1.7435989379882812, 0.1259422021219103),\n",
       "  (1.7503440380096436, 0.05855243800437052),\n",
       "  (1.7582318782806396, 0.08121592310831693),\n",
       "  (1.7718989849090576, 0.18782942530198424),\n",
       "  (1.8105590343475342, 0.6667796099691289),\n",
       "  (1.8323209285736084, 0.26367229661830716),\n",
       "  (1.8468868732452393, 0.24058301750954264),\n",
       "  (1.8868060111999512, 0.6919440537583997),\n",
       "  (1.9323949813842773, 0.8622687439143135),\n",
       "  (1.9564909934997559, 0.5393939393939394),\n",
       "  (1.9694128036499023, 0.16174355368240328),\n",
       "  (1.9768149852752686, 0.16140379655703493),\n",
       "  (1.987091064453125, 0.16135527130935462),\n",
       "  (1.9890289306640625, 0.1259422021219103),\n",
       "  (1.9940149784088135, 0.05855243800437052),\n",
       "  (1.9991817474365234, 0.08121592310831693),\n",
       "  (2.0192971229553223, 0.25575820589466997),\n",
       "  (2.0424389839172363, 0.342604011006814),\n",
       "  (2.065229892730713, 0.3550828513287288),\n",
       "  (2.0841259956359863, 0.6205458813636523),\n",
       "  (2.123926877975464, 1.0657720543988447),\n",
       "  (2.166908025741577, 0.9393762596796436),\n",
       "  (2.1943891048431396, 1.2011529331976942),\n",
       "  (2.204652786254883, 0.22119257404412362),\n",
       "  (2.2208499908447266, 0.22046705006597456),\n",
       "  (2.241878032684326, 0.22108006054081045),\n",
       "  (2.2494900226593018, 0.17291508015542928),\n",
       "  (2.2547149658203125, 0.08121592310831693),\n",
       "  (2.2783689498901367, 0.08121592310831693),\n",
       "  (2.2988460063934326, 0.25575820589466997),\n",
       "  (2.3219830989837646, 0.342604011006814),\n",
       "  (2.3457190990448, 0.3550828513287288),\n",
       "  (2.3661818504333496, 0.6205458813636523),\n",
       "  (2.4074649810791016, 1.0657720543988447),\n",
       "  (2.448387861251831, 0.9393762596796436),\n",
       "  (2.4752399921417236, 1.2011529331976942),\n",
       "  (2.4854648113250732, 0.22119257404412362),\n",
       "  (2.504673719406128, 0.22046705006597456),\n",
       "  (2.5231709480285645, 0.22108006054081045),\n",
       "  (2.5317230224609375, 0.17291508015542928),\n",
       "  (2.5371479988098145, 0.08121592310831693),\n",
       "  (2.5589728355407715, 0.08121592310831693),\n",
       "  (2.571556806564331, 0.619655727380869),\n",
       "  (2.5826849937438965, 0.6229084418496277),\n",
       "  (2.5901970863342285, 0.6238024795717103),\n",
       "  (2.6028130054473877, 0.6624029920523609),\n",
       "  (2.6174018383026123, 0.8671342366491634),\n",
       "  (2.6327109336853027, 0.8939531597011912),\n",
       "  (2.6480190753936768, 0.6204589245051673),\n",
       "  (2.664107084274292, 1.3927026814500276),\n",
       "  (2.683166027069092, 1.2249541792025451),\n",
       "  (2.6967339515686035, 1.2574369897053603),\n",
       "  (2.7219278812408447, 0.33721749395479905),\n",
       "  (2.7283999919891357, 0.16140379655703493),\n",
       "  (2.7480499744415283, 0.16140379655703493),\n",
       "  (2.7486767768859863, 0.6205458813636523),\n",
       "  (2.749011993408203, 0.4268739455290431),\n",
       "  (2.755934000015259, 0.6238024795717103),\n",
       "  (2.767589807510376, 0.619655727380869),\n",
       "  (2.7793679237365723, 0.6229084418496277),\n",
       "  (2.7935597896575928, 0.6624029920523609),\n",
       "  (2.80733585357666, 0.8671342366491634),\n",
       "  (2.8215057849884033, 0.8939531597011912),\n",
       "  (2.834419012069702, 0.6204589245051673),\n",
       "  (2.8514440059661865, 1.3927026814500276),\n",
       "  (2.8684680461883545, 1.2249541792025451),\n",
       "  (2.8834428787231445, 1.2574369897053603),\n",
       "  (2.9086899757385254, 0.33721749395479905),\n",
       "  (2.91571307182312, 0.16140379655703493),\n",
       "  (2.9362339973449707, 0.16140379655703493),\n",
       "  (2.936800956726074, 0.6205458813636523),\n",
       "  (2.937088966369629, 0.4268739455290431),\n",
       "  (2.9530909061431885, 0.5173322817855865),\n",
       "  (2.966668128967285, 0.5356662180349933),\n",
       "  (2.977458953857422, 0.4935350833194003),\n",
       "  (2.9888458251953125, 0.49287582790671786),\n",
       "  (3.0058000087738037, 1.2350767085076708),\n",
       "  (3.0253210067749023, 1.0084842273089625),\n",
       "  (3.0469698905944824, 1.1427926184023744),\n",
       "  (3.056668996810913, 0.33870397108461386),\n",
       "  (3.0673668384552, 0.33721749395479905),\n",
       "  (3.080806016921997, 0.33844022453123135),\n",
       "  (3.084047794342041, 0.1259422021219103),\n",
       "  (3.1011579036712646, 0.1259422021219103),\n",
       "  (3.1069257259368896, 0.17291508015542928),\n",
       "  (3.117384910583496, 0.5173322817855865),\n",
       "  (3.1256699562072754, 0.49287582790671786),\n",
       "  (3.135331869125366, 0.5356662180349933),\n",
       "  (3.1408851146698, 0.4935350833194003),\n",
       "  (3.1556949615478516, 1.1427926184023744),\n",
       "  (3.1685988903045654, 1.2350767085076708),\n",
       "  (3.1835169792175293, 1.0084842273089625),\n",
       "  (3.191240072250366, 0.33870397108461386),\n",
       "  (3.1955530643463135, 0.33721749395479905),\n",
       "  (3.203556776046753, 0.33844022453123135),\n",
       "  (3.2074010372161865, 0.1259422021219103),\n",
       "  (3.2104299068450928, 0.1259422021219103),\n",
       "  (3.212920904159546, 0.17291508015542928),\n",
       "  (3.2175498008728027, 1.138934439407093),\n",
       "  (3.2199161052703857, 1.1419268524637727),\n",
       "  (3.222097873687744, 1.1465656761830776),\n",
       "  (3.2298660278320312, 1.1721570509108357),\n",
       "  (3.2339327335357666, 1.1017729393468119),\n",
       "  (3.2385590076446533, 1.1428479246317895),\n",
       "  (3.243485927581787, 1.28592173092282),\n",
       "  (3.2485828399658203, 1.1723316233658778),\n",
       "  (3.2575550079345703, 0.870191126615241),\n",
       "  (3.2578928470611572, 1.090511668000739),\n",
       "  (3.258178949356079, 0.9976904010815683),\n",
       "  (3.258795976638794, 0.5235603641953411),\n",
       "  (3.2639319896698, 0.6193956774148422),\n",
       "  (3.2643189430236816, 1.1459721772889033),\n",
       "  (3.2645719051361084, 1.0924623735504564),\n",
       "  (3.269230842590332, 1.1398140103613605),\n",
       "  (3.271643877029419, 1.1428110532174025),\n",
       "  (3.275909900665283, 1.173088705270653),\n",
       "  (3.2806129455566406, 1.102596028139202),\n",
       "  (3.2848169803619385, 1.1437335528971118),\n",
       "  (3.289477825164795, 1.2870430927984884),\n",
       "  (3.2948079109191895, 1.1732635553641815),\n",
       "  (3.302825927734375, 0.8707044884715599),\n",
       "  (3.3031487464904785, 0.796035776888849),\n",
       "  (3.303745746612549, 0.523746155665957),\n",
       "  (3.309032917022705, 0.619655727380869),\n",
       "  (3.309420108795166, 1.1468626562196464),\n",
       "  (3.309654712677002, 1.0932716049382716),\n",
       "  (3.31589412689209, 0.5267055254862308),\n",
       "  (3.3198468685150146, 0.523746155665957),\n",
       "  (3.325040817260742, 0.5583455494081114),\n",
       "  (3.335645914077759, 0.6529400921658987),\n",
       "  (3.3468499183654785, 1.434089068825911),\n",
       "  (3.35622501373291, 0.5362744504329922),\n",
       "  (3.364259958267212, 0.5243198436898665),\n",
       "  (3.371614933013916, 0.5222789065494973),\n",
       "  (3.3882040977478027, 0.40600142126859684),\n",
       "  (3.422698974609375, 0.16140379655703493),\n",
       "  (3.423110008239746, 0.42087878139778045),\n",
       "  (3.4233689308166504, 0.5243819393042191),\n",
       "  (3.4236490726470947, 0.5019271099019441),\n",
       "  (3.4299800395965576, 0.5267055254862308),\n",
       "  (3.4336938858032227, 0.523746155665957),\n",
       "  (3.437872886657715, 0.5583455494081114),\n",
       "  (3.444995880126953, 0.6529400921658987),\n",
       "  (3.452630043029785, 1.434089068825911),\n",
       "  (3.458937883377075, 0.5362744504329922),\n",
       "  (3.4648337364196777, 0.5243198436898665),\n",
       "  (3.471303939819336, 0.5222789065494973),\n",
       "  (3.483137845993042, 0.40600142126859684),\n",
       "  (3.515997886657715, 0.16140379655703493),\n",
       "  (3.516516923904419, 0.42087878139778045),\n",
       "  (3.517232894897461, 0.5243819393042191),\n",
       "  (3.5174899101257324, 0.5019271099019441),\n",
       "  (3.5213730335235596, 1.1428479246317895),\n",
       "  (3.5257568359375, 1.1352841255087978),\n",
       "  (3.529569149017334, 1.1382573627468309),\n",
       "  (3.5337297916412354, 1.142866361231206),\n",
       "  (3.544740915298462, 1.1682910338231172),\n",
       "  (3.5489768981933594, 1.0983565891472868),\n",
       "  (3.562809944152832, 1.2812703465239095),\n",
       "  (3.5688767433166504, 1.168464456539667),\n",
       "  (3.5714240074157715, 0.5581344047900417),\n",
       "  (3.5725629329681396, 0.9033919918388166),\n",
       "  (3.5730040073394775, 1.1431614277415607),\n",
       "  (3.573451042175293, 1.0415784521289109),\n",
       "  (3.5746638774871826, 0.662105833753902),\n",
       "  (3.575000762939453, 1.1459721772889033),\n",
       "  (3.5753307342529297, 1.0924623735504564),\n",
       "  (3.579252004623413, 1.1437335528971118),\n",
       "  (3.582974910736084, 1.1361580652404015),\n",
       "  (3.58638072013855, 1.1391358878294287),\n",
       "  (3.5919528007507324, 1.1692165503127527),\n",
       "  (3.5976908206939697, 1.0991745795320549),\n",
       "  (3.605963945388794, 1.2823836072695678),\n",
       "  (3.6096458435058594, 1.1693902479284275),\n",
       "  (3.6120049953460693, 0.5583455494081114),\n",
       "  (3.6123619079589844, 0.9039452865819425),\n",
       "  (3.612701892852783, 0.8237291288777266),\n",
       "  (3.6137218475341797, 0.6624029920523609),\n",
       "  (3.6140239238739014, 1.1468626562196464),\n",
       "  (3.614412784576416, 1.0932716049382716),\n",
       "  (3.6201539039611816, 0.526517628872109),\n",
       "  (3.6247990131378174, 0.5243198436898665),\n",
       "  (3.628351926803589, 0.5235603641953411),\n",
       "  (3.6328299045562744, 0.5581344047900417),\n",
       "  (3.6396701335906982, 0.6526513616096105),\n",
       "  (3.6480860710144043, 1.4326969745995795),\n",
       "  (3.6629068851470947, 0.5360796658393365),\n",
       "  (3.668394088745117, 0.5220941544085134),\n",
       "  (3.6691839694976807, 0.4674690527093726),\n",
       "  (3.6695690155029297, 0.42044915012819295),\n",
       "  (3.6715447902679443, 0.24058301750954264),\n",
       "  (3.6717300415039062, 0.5243819393042191),\n",
       "  (3.6719398498535156, 0.5019271099019441),\n",
       "  (3.67728590965271, 0.526517628872109),\n",
       "  (3.682494878768921, 0.5243198436898665),\n",
       "  (3.686447858810425, 0.5235603641953411),\n",
       "  (3.69073486328125, 0.5581344047900417),\n",
       "  (3.6969480514526367, 0.6526513616096105),\n",
       "  (3.7047009468078613, 1.4326969745995795),\n",
       "  (3.7208049297332764, 0.5360796658393365),\n",
       "  (3.726097822189331, 0.5220941544085134),\n",
       "  (3.7269129753112793, 0.4674690527093726),\n",
       "  (3.72731876373291, 0.42044915012819295),\n",
       "  (3.7294468879699707, 0.24058301750954264),\n",
       "  (3.729823112487793, 0.5243819393042191),\n",
       "  (3.730130910873413, 0.5019271099019441),\n",
       "  (3.738278865814209, 0.5255801531248145),\n",
       "  (3.749224901199341, 1.1699696128947021),\n",
       "  (3.754734754562378, 0.5699070051806803),\n",
       "  (3.760654926300049, 0.42051403810767496),\n",
       "  (3.7663419246673584, 0.42044915012819295),\n",
       "  (3.7726149559020996, 0.4099009442695797),\n",
       "  (3.7783939838409424, 0.4081580918361468),\n",
       "  (3.784245014190674, 0.40600142126859684),\n",
       "  (3.7884061336517334, 0.1259422021219103),\n",
       "  (3.7887609004974365, 0.3512832718473561),\n",
       "  (3.7891080379486084, 0.3680590191188695),\n",
       "  (3.7963149547576904, 0.5255801531248145),\n",
       "  (3.8014979362487793, 0.5699070051806803),\n",
       "  (3.8102669715881348, 1.1699696128947021),\n",
       "  (3.8169360160827637, 0.42051403810767496),\n",
       "  (3.82302188873291, 0.42044915012819295),\n",
       "  (3.8304078578948975, 0.4099009442695797),\n",
       "  (3.8362250328063965, 0.4081580918361468),\n",
       "  (3.8412177562713623, 0.40600142126859684),\n",
       "  (3.8455779552459717, 0.1259422021219103),\n",
       "  (3.8460288047790527, 0.3512832718473561),\n",
       "  (3.846497058868408, 0.3680590191188695),\n",
       "  (3.853644847869873, 0.46702528808374866),\n",
       "  (3.8625729084014893, 0.5125303854612803),\n",
       "  (3.873610019683838, 0.8808813289565304),\n",
       "  (3.879471778869629, 0.4674690527093726),\n",
       "  (3.8859610557556152, 0.4500203272690314),\n",
       "  (3.893986940383911, 0.5368433815282956),\n",
       "  (3.8996028900146484, 0.42087878139778045),\n",
       "  (3.9060471057891846, 0.42054898608538727),\n",
       "  (3.906846046447754, 0.3512832718473561),\n",
       "  (3.9998528957366943, 0.05855243800437052),\n",
       "  (4.001163959503174, 0.32400343925507197),\n",
       "  (4.008589744567871, 0.46702528808374866),\n",
       "  (4.017163991928101, 0.5125303854612803),\n",
       "  (4.02872896194458, 0.8808813289565304),\n",
       "  (4.034051895141602, 0.4674690527093726),\n",
       "  (4.040258884429932, 0.4500203272690314),\n",
       "  (4.0482177734375, 0.5368433815282956),\n",
       "  (4.053221940994263, 0.42087878139778045),\n",
       "  (4.058969974517822, 0.42054898608538727),\n",
       "  (4.059798002243042, 0.3512832718473561),\n",
       "  (4.151470899581909, 0.05855243800437052),\n",
       "  (4.152453899383545, 0.32400343925507197),\n",
       "  (4.161050796508789, 0.49715087719298245),\n",
       "  (4.170532941818237, 0.5490420980841961),\n",
       "  (4.182849884033203, 0.9945530098831986),\n",
       "  (4.189541816711426, 0.4853326025895732),\n",
       "  (4.196975946426392, 0.4651242187089658),\n",
       "  (4.203016042709351, 0.5243819393042191),\n",
       "  (4.20862078666687, 0.44778459010176347),\n",
       "  (4.215424060821533, 0.4448211774161141),\n",
       "  (4.216184854507446, 0.3680590191188695),\n",
       "  (4.282405853271484, 0.08121592310831693),\n",
       "  (4.284952878952026, 0.32400343925507197),\n",
       "  (4.292856931686401, 0.49715087719298245),\n",
       "  (4.302649974822998, 0.5490420980841961),\n",
       "  (4.3147358894348145, 0.9945530098831986),\n",
       "  (4.321121692657471, 0.4853326025895732),\n",
       "  (4.3283960819244385, 0.4651242187089658),\n",
       "  (4.335446834564209, 0.5243819393042191),\n",
       "  (4.340912818908691, 0.44778459010176347),\n",
       "  (4.3474040031433105, 0.4448211774161141),\n",
       "  (4.348045825958252, 0.3680590191188695),\n",
       "  (4.415436029434204, 0.08121592310831693),\n",
       "  (4.418004989624023, 0.32400343925507197),\n",
       "  (4.4241297245025635, 0.6235389381777214),\n",
       "  (4.428353786468506, 0.6204589245051673),\n",
       "  (4.433081865310669, 0.6193956774148422),\n",
       "  (4.437505006790161, 0.622645655173626),\n",
       "  (4.442637920379639, 0.662105833753902),\n",
       "  (4.449173927307129, 0.866625074926297),\n",
       "  (4.462069034576416, 0.8934120258272801),\n",
       "  (4.471542119979858, 1.391389739963862),\n",
       "  (4.478131055831909, 1.2563666028232958),\n",
       "  (4.48795485496521, 1.2239383573477074),\n",
       "  (4.492080926895142, 0.4935350833194003),\n",
       "  (4.496662139892578, 0.24058301750954264),\n",
       "  (4.498241901397705, 0.24058301750954264),\n",
       "  (4.498920917510986, 0.4268739455290431),\n",
       "  (4.499163866043091, 0.6205458813636523),\n",
       "  (4.504590749740601, 0.6193956774148422),\n",
       "  (4.509634733200073, 0.622645655173626),\n",
       "  (4.516865015029907, 0.6235389381777214),\n",
       "  (4.521420001983643, 0.6204589245051673),\n",
       "  (4.5370190143585205, 0.662105833753902),\n",
       "  (4.544116020202637, 0.866625074926297),\n",
       "  (4.551868915557861, 0.8934120258272801),\n",
       "  (4.559234857559204, 1.2563666028232958),\n",
       "  (4.569504976272583, 1.2239383573477074),\n",
       "  (4.5794267654418945, 1.391389739963862),\n",
       "  (4.580384016036987, 0.4935350833194003),\n",
       "  (4.586596965789795, 0.24058301750954264),\n",
       "  (4.58838677406311, 0.24058301750954264),\n",
       "  (4.588644981384277, 0.6205458813636523),\n",
       "  (4.589037895202637, 0.4268739455290431),\n",
       "  (4.593881845474243, 0.49715087719298245),\n",
       "  (4.599888801574707, 0.5293462748350556),\n",
       "  (4.6058030128479, 0.5067090092409807),\n",
       "  (4.6118810176849365, 0.5757240841270357),\n",
       "  (4.616006851196289, 0.8724630541871922),\n",
       "  (4.623667001724243, 0.9769969108561342),\n",
       "  (4.628374099731445, 0.47711537943482124),\n",
       "  (4.633793830871582, 0.4799956637509909),\n",
       "  (4.634673833847046, 0.44238791057824406),\n",
       "  (4.635690927505493, 0.32400343925507197),\n",
       "  (4.640734910964966, 0.08121592310831693),\n",
       "  (4.646007061004639, 0.49715087719298245),\n",
       "  (4.65137791633606, 0.5293462748350556),\n",
       "  (4.657275915145874, 0.5067090092409807),\n",
       "  (4.663139820098877, 0.5757240841270357),\n",
       "  (4.671418905258179, 0.9769969108561342),\n",
       "  (4.67583703994751, 0.8724630541871922),\n",
       "  (4.680450916290283, 0.47711537943482124),\n",
       "  (4.68537712097168, 0.4799956637509909),\n",
       "  (4.6861560344696045, 0.44238791057824406),\n",
       "  (4.6869378089904785, 0.32400343925507197),\n",
       "  (4.691563129425049, 0.08121592310831693),\n",
       "  (4.694707870483398, 0.8707044884715599),\n",
       "  (4.697690963745117, 0.8771404162591158),\n",
       "  (4.701089143753052, 0.9039452865819425),\n",
       "  (4.704989910125732, 1.030803032287165),\n",
       "  (4.708857774734497, 0.9572996054267336),\n",
       "  (4.712387800216675, 0.8722911741528763),\n",
       "  (4.7168779373168945, 0.9297112860892388),\n",
       "  (4.722461938858032, 1.204829931972789),\n",
       "  (4.729089021682739, 0.645138964776163),\n",
       "  (4.731317043304443, 0.42087878139778045),\n",
       "  (4.733802080154419, 0.16140379655703493),\n",
       "  (4.734122037887573, 0.8724630541871922),\n",
       "  (4.734323024749756, 0.7227209662939689),\n",
       "  (4.7374091148376465, 0.8707044884715599),\n",
       "  (4.740188837051392, 0.8771404162591158),\n",
       "  (4.743440866470337, 0.9039452865819425),\n",
       "  (4.747278928756714, 1.030803032287165),\n",
       "  (4.752899885177612, 0.9572996054267336),\n",
       "  (4.759873867034912, 0.8722911741528763),\n",
       "  (4.767289876937866, 0.9297112860892388),\n",
       "  (4.775747776031494, 1.204829931972789),\n",
       "  (4.789906024932861, 0.645138964776163),\n",
       "  (4.792288064956665, 0.42087878139778045),\n",
       "  (4.827338933944702, 0.16140379655703493),\n",
       "  (4.827672958374023, 0.8724630541871922),\n",
       "  (4.828000068664551, 0.7227209662939689),\n",
       "  (4.835105895996094, 0.780108574763525),\n",
       "  (4.842571020126343, 0.7241393409109493),\n",
       "  (4.848721981048584, 0.7703114126652749),\n",
       "  (4.851799726486206, 0.7614686787910057),\n",
       "  (4.855637073516846, 0.7162326108055646),\n",
       "  (4.8608458042144775, 0.9644938190927408),\n",
       "  (4.863681793212891, 0.645138964776163),\n",
       "  (4.8698320388793945, 0.6496290794384382),\n",
       "  (4.870829820632935, 0.3512832718473561),\n",
       "  (4.915158033370972, 0.1259422021219103),\n",
       "  (4.916288137435913, 0.44238791057824406),\n",
       "  (4.92281699180603, 0.780108574763525),\n",
       "  (4.930064916610718, 0.7241393409109493),\n",
       "  (4.93617582321167, 0.7703114126652749),\n",
       "  (4.939544916152954, 0.7614686787910057),\n",
       "  (4.943650722503662, 0.7162326108055646),\n",
       "  (4.948675870895386, 0.9644938190927408),\n",
       "  (4.95125675201416, 0.645138964776163),\n",
       "  (4.95764684677124, 0.6496290794384382),\n",
       "  (4.958600044250488, 0.3512832718473561),\n",
       "  (4.999459743499756, 0.1259422021219103),\n",
       "  (5.000598907470703, 0.44238791057824406),\n",
       "  (5.0045459270477295, 0.9322560269502053),\n",
       "  (5.00721001625061, 0.9302606526163745),\n",
       "  (5.01007080078125, 1.1769083810947754),\n",
       "  (5.013935804367065, 1.0686014239169783),\n",
       "  (5.016759157180786, 1.1468626562196464),\n",
       "  (5.021258115768433, 0.962658984672247),\n",
       "  (5.026853799819946, 0.9248081040154561),\n",
       "  (5.032948017120361, 0.9184774153399368),\n",
       "  (5.043479919433594, 0.40600142126859684),\n",
       "  (5.060090780258179, 0.33721749395479905),\n",
       "  (5.06080174446106, 0.645138964776163),\n",
       "  (5.061152935028076, 0.9250013056875751),\n",
       "  (5.0615339279174805, 0.8573434020718366),\n",
       "  (5.067187070846558, 0.9322560269502053),\n",
       "  (5.070459842681885, 0.9302606526163745),\n",
       "  (5.074898958206177, 1.1769083810947754),\n",
       "  (5.080131769180298, 1.0686014239169783),\n",
       "  (5.084781885147095, 1.1468626562196464),\n",
       "  (5.090681791305542, 0.962658984672247),\n",
       "  (5.0973169803619385, 0.9248081040154561),\n",
       "  (5.104089975357056, 0.9184774153399368),\n",
       "  (5.118937969207764, 0.40600142126859684),\n",
       "  (5.133685111999512, 0.33721749395479905),\n",
       "  (5.134052991867065, 0.645138964776163),\n",
       "  (5.134307861328125, 0.9250013056875751),\n",
       "  (5.134571075439453, 0.8573434020718366),\n",
       "  (5.139765977859497, 1.2038471995649809),\n",
       "  (5.146586894989014, 0.9291260098625538),\n",
       "  (5.1494059562683105, 0.8722911741528763),\n",
       "  (5.152186870574951, 0.870191126615241),\n",
       "  (5.15510106086731, 0.8766194394604961),\n",
       "  (5.15822696685791, 0.9033919918388166),\n",
       "  (5.161667823791504, 1.0300836059614686),\n",
       "  (5.165674924850464, 0.95667909036893),\n",
       "  (5.168566942214966, 0.7614686787910057),\n",
       "  (5.170727968215942, 0.4674690527093726),\n",
       "  (5.172852039337158, 0.24058301750954264),\n",
       "  (5.1730687618255615, 0.8724630541871922),\n",
       "  (5.173516750335693, 0.7227209662939689),\n",
       "  (5.176729917526245, 0.8722911741528763),\n",
       "  (5.18009877204895, 0.870191126615241),\n",
       "  (5.182825088500977, 0.8766194394604961),\n",
       "  (5.185826778411865, 0.9033919918388166),\n",
       "  (5.1892149448394775, 1.0300836059614686),\n",
       "  (5.193252801895142, 0.95667909036893),\n",
       "  (5.20914101600647, 0.9291260098625538),\n",
       "  (5.216718912124634, 1.2038471995649809),\n",
       "  (5.217041969299316, 0.7614686787910057),\n",
       "  (5.219657897949219, 0.4674690527093726),\n",
       "  (5.228654861450195, 0.24058301750954264),\n",
       "  (5.2291998863220215, 0.8724630541871922),\n",
       "  (5.229620933532715, 0.7227209662939689),\n",
       "  (5.234754800796509, 0.9316675433982115),\n",
       "  (5.2391698360443115, 0.9248081040154561),\n",
       "  (5.242846965789795, 0.9296746847236985),\n",
       "  (5.24799108505249, 1.175970652191956),\n",
       "  (5.254472017288208, 1.0678282889183648),\n",
       "  (5.259346961975098, 1.1459721772889033),\n",
       "  (5.274103164672852, 0.962031504617056),\n",
       "  (5.279984951019287, 0.9179061933143301),\n",
       "  (5.28085994720459, 0.7614686787910057),\n",
       "  (5.283963918685913, 0.42044915012819295),\n",
       "  (5.285517930984497, 0.4935350833194003),\n",
       "  (5.285995006561279, 0.9250013056875751),\n",
       "  (5.28620982170105, 0.8573434020718366),\n",
       "  (5.289489984512329, 0.9316675433982115),\n",
       "  (5.29214072227478, 0.9248081040154561),\n",
       "  (5.2960638999938965, 0.9296746847236985),\n",
       "  (5.299505949020386, 1.175970652191956),\n",
       "  (5.303400993347168, 1.0678282889183648),\n",
       "  (5.306236982345581, 1.1459721772889033),\n",
       "  (5.314756870269775, 0.962031504617056),\n",
       "  (5.318206071853638, 0.9179061933143301),\n",
       "  (5.318996906280518, 0.7614686787910057),\n",
       "  (5.319716930389404, 0.42044915012819295),\n",
       "  (5.320738792419434, 0.4935350833194003),\n",
       "  (5.320935010910034, 0.9250013056875751),\n",
       "  (5.321162939071655, 0.8573434020718366),\n",
       "  (5.327997922897339, 0.8679629017042183),\n",
       "  (5.33544397354126, 0.7992328519855596),\n",
       "  (5.342477798461914, 0.8558519377597371),\n",
       "  (5.347076892852783, 0.8100345308605273),\n",
       "  (5.3525567054748535, 0.7552665245202559),\n",
       "  (5.356773853302002, 0.9250013056875751),\n",
       "  (5.359900951385498, 0.7105859696282774),\n",
       "  (5.3673529624938965, 0.7094261022821722),\n",
       "  (5.368370056152344, 0.3680590191188695),\n",
       "  (5.398987054824829, 0.17291508015542928),\n",
       "  (5.401726961135864, 0.44238791057824406),\n",
       "  (5.408854722976685, 0.8679629017042183),\n",
       "  (5.416542053222656, 0.7992328519855596),\n",
       "  (5.422933101654053, 0.8558519377597371),\n",
       "  (5.427467107772827, 0.8100345308605273),\n",
       "  (5.432609796524048, 0.7552665245202559),\n",
       "  (5.436774969100952, 0.9250013056875751),\n",
       "  (5.439907789230347, 0.7105859696282774),\n",
       "  (5.446738004684448, 0.7094261022821722),\n",
       "  (5.447659969329834, 0.3680590191188695),\n",
       "  (5.479237794876099, 0.17291508015542928),\n",
       "  (5.482000827789307, 0.44238791057824406),\n",
       "  (5.485499858856201, 1.0084842273089625),\n",
       "  (5.488634824752808, 1.0),\n",
       "  (5.491565942764282, 0.9976904010815683),\n",
       "  (5.494642972946167, 1.0061496073056766),\n",
       "  (5.498315095901489, 1.0415784521289109),\n",
       "  (5.50240683555603, 1.2136848777646434),\n",
       "  (5.5071938037872314, 1.1130593262946205),\n",
       "  (5.510727882385254, 1.0924623735504564),\n",
       "  (5.514517068862915, 1.0775080610817058),\n",
       "  (5.518460988998413, 1.0143757159221076),\n",
       "  (5.518764019012451, 0.8573434020718366),\n",
       "  (5.52106499671936, 0.5019271099019441),\n",
       "  (5.52226996421814, 0.4268739455290431),\n",
       "  (5.522671937942505, 0.7975054034582133),\n",
       "  (5.523810863494873, 0.7227209662939689),\n",
       "  (5.528876781463623, 1.0084842273089625),\n",
       "  (5.531850099563599, 0.9976904010815683),\n",
       "  (5.534388065338135, 1.0061496073056766),\n",
       "  (5.537499904632568, 1.0415784521289109),\n",
       "  (5.540756940841675, 1.2136848777646434),\n",
       "  (5.544928073883057, 1.1130593262946205),\n",
       "  (5.549973964691162, 1.0775080610817058),\n",
       "  (5.554414749145508, 1.0924623735504564),\n",
       "  (5.559571027755737, 1.0143757159221076),\n",
       "  (5.563557863235474, 1.0),\n",
       "  (5.5638580322265625, 0.8573434020718366),\n",
       "  (5.565918922424316, 0.5019271099019441),\n",
       "  (5.576850891113281, 0.4268739455290431),\n",
       "  (5.577416896820068, 0.7227209662939689),\n",
       "  (5.5778419971466064, 0.7975054034582133),\n",
       "  (5.582453966140747, 1.1034203476418916),\n",
       "  (5.585223913192749, 1.090511668000739),\n",
       "  (5.588615894317627, 1.1006260972237327),\n",
       "  (5.591814994812012, 1.1431614277415607),\n",
       "  (5.595142841339111, 1.3538708506124946),\n",
       "  (5.599088907241821, 1.229845149642386),\n",
       "  (5.6067328453063965, 1.146268849912627),\n",
       "  (5.611385822296143, 1.084169931439765),\n",
       "  (5.619503974914551, 0.8722911741528763),\n",
       "  (5.619814872741699, 0.9248081040154561),\n",
       "  (5.622070074081421, 0.5243198436898665),\n",
       "  (5.631651878356934, 0.6204589245051673),\n",
       "  (5.631908893585205, 1.0932716049382716),\n",
       "  (5.632149934768677, 1.0932716049382716),\n",
       "  (5.635161876678467, 1.1034203476418916),\n",
       "  (5.637832880020142, 1.090511668000739),\n",
       "  (5.640962839126587, 1.1006260972237327),\n",
       "  (5.644441843032837, 1.1431614277415607),\n",
       "  (5.648278713226318, 1.3538708506124946),\n",
       "  (5.65253210067749, 1.229845149642386),\n",
       "  (5.664901971817017, 1.146268849912627),\n",
       "  (5.668748140335083, 1.084169931439765),\n",
       "  (5.669648885726929, 0.8722911741528763),\n",
       "  (5.670010805130005, 0.9248081040154561),\n",
       "  (5.67225193977356, 0.5243198436898665),\n",
       "  (5.673182964324951, 0.6204589245051673),\n",
       "  (5.6734349727630615, 1.0932716049382716),\n",
       "  (5.6737401485443115, 1.0932716049382716),\n",
       "  (5.676990985870361, 1.1034203476418916),\n",
       "  (5.679872035980225, 1.090511668000739),\n",
       "  (5.682687997817993, 1.1006260972237327),\n",
       "  (5.686312913894653, 1.1431614277415607),\n",
       "  (5.690393924713135, 1.3538708506124946),\n",
       "  (5.694324016571045, 1.229845149642386),\n",
       "  (5.704792737960815, 1.146268849912627),\n",
       "  (5.708370923995972, 1.084169931439765),\n",
       "  (5.709190845489502, 0.8724630541871922),\n",
       "  (5.709497928619385, 0.9250013056875751),\n",
       "  (5.711735725402832, 0.5243819393042191),\n",
       "  (5.712603807449341, 0.6205458813636523),\n",
       "  (5.712844133377075, 0.7975054034582133),\n",
       "  (5.716054916381836, 1.1034203476418916),\n",
       "  (5.719000816345215, 1.090511668000739),\n",
       "  (5.721550941467285, 1.1006260972237327),\n",
       "  (5.724649906158447, 1.1431614277415607),\n",
       "  (5.728273868560791, 1.3538708506124946),\n",
       "  (5.73204779624939, 1.229845149642386),\n",
       "  (5.7410218715667725, 1.146268849912627),\n",
       "  (5.744647026062012, 1.084169931439765),\n",
       "  (5.7455151081085205, 0.8724630541871922),\n",
       "  (5.745851993560791, 0.9250013056875751),\n",
       "  (5.748061895370483, 0.5243819393042191),\n",
       "  (5.748883008956909, 0.6205458813636523),\n",
       "  (5.7491068840026855, 0.7975054034582133),\n",
       "  (5.753042936325073, 1.1034203476418916),\n",
       "  (5.755934000015259, 1.090511668000739),\n",
       "  (5.758410930633545, 1.1006260972237327),\n",
       "  (5.761406898498535, 1.1431614277415607),\n",
       "  (5.765025854110718, 1.3538708506124946),\n",
       "  (5.768682956695557, 1.229845149642386),\n",
       "  (5.772874116897583, 1.146268849912627),\n",
       "  (5.777655124664307, 1.084169931439765),\n",
       "  (5.785589933395386, 0.9250013056875751),\n",
       "  (5.7878899574279785, 0.5243819393042191),\n",
       "  (5.799213886260986, 0.6205458813636523),\n",
       "  (5.79952597618103, 0.8724630541871922),\n",
       "  (5.799829006195068, 0.7975054034582133),\n",
       "  (5.803205966949463, 0.7617306782503979),\n",
       "  (5.80657696723938, 0.7650292107167155),\n",
       "  (5.810265779495239, 0.9243375128844121),\n",
       "  (5.814615726470947, 0.8561829256501982),\n",
       "  (5.817898988723755, 0.9057018665302992),\n",
       "  (5.828876733779907, 0.8047162524421827),\n",
       "  (5.834146738052368, 1.0029446741038563),\n",
       "  (5.834808826446533, 0.38315593631014194),\n",
       "  (5.844703912734985, 0.18802683822748795),\n",
       "  (5.844873905181885, 0.761861745601583),\n",
       "  (5.845048904418945, 0.645138964776163),\n",
       "  (5.8490989208221436, 0.8028922435287185),\n",
       "  (5.8527069091796875, 0.796035776888849),\n",
       "  (5.856558799743652, 0.801411780676252),\n",
       "  (5.860642910003662, 0.8237291288777266),\n",
       "  (5.865437984466553, 0.9277753768383556),\n",
       "  (5.870755910873413, 0.8678034200597775),\n",
       "  (5.874737977981567, 1.0932716049382716),\n",
       "  (5.879094123840332, 0.914871635931608),\n",
       "  (5.884225130081177, 0.8516541642623582),\n",
       "  (5.884493827819824, 0.7040747366328761),\n",
       "  (5.886627912521362, 0.4451901565995526),\n",
       "  (5.888911962509155, 0.22055765183497092),\n",
       "  (5.890815019607544, 0.47753990509059535),\n",
       "  (5.896470069885254, 0.8028922435287185),\n",
       "  (5.900780916213989, 0.796035776888849),\n",
       "  (5.904549837112427, 0.801411780676252),\n",
       "  (5.90905499458313, 0.8237291288777266),\n",
       "  (5.913434982299805, 0.9277753768383556),\n",
       "  (5.917571783065796, 0.8678034200597775),\n",
       "  (5.922811985015869, 0.914871635931608),\n",
       "  (5.928839921951294, 0.8516541642623582),\n",
       "  (5.934346914291382, 1.0932716049382716),\n",
       "  (5.934646129608154, 0.7040747366328761),\n",
       "  (5.937132835388184, 0.4451901565995526),\n",
       "  (5.954524040222168, 0.22055765183497092),\n",
       "  (5.955065965652466, 0.47753990509059535),\n",
       "  (5.958890914916992, 0.8028922435287185),\n",
       "  (5.962998151779175, 0.796035776888849),\n",
       "  (5.96737003326416, 0.801411780676252),\n",
       "  (5.9715118408203125, 0.8237291288777266),\n",
       "  (5.975954055786133, 0.9277753768383556),\n",
       "  (5.98155403137207, 0.8678034200597775),\n",
       "  (5.985907077789307, 0.914871635931608),\n",
       "  (5.990309953689575, 0.8516541642623582),\n",
       "  (5.994062900543213, 1.0932716049382716),\n",
       "  (5.994358062744141, 0.7040747366328761),\n",
       "  (5.996556043624878, 0.4451901565995526),\n",
       "  (5.999197006225586, 0.22055765183497092),\n",
       "  (6.001009941101074, 0.47753990509059535),\n",
       "  (6.005151987075806, 0.8028922435287185),\n",
       "  (6.0086939334869385, 0.796035776888849),\n",
       "  (6.0130228996276855, 0.801411780676252),\n",
       "  (6.0173938274383545, 0.8237291288777266),\n",
       "  (6.021580934524536, 0.9277753768383556),\n",
       "  (6.026190757751465, 0.8678034200597775),\n",
       "  (6.030465126037598, 1.0932716049382716),\n",
       "  (6.035017967224121, 0.914871635931608),\n",
       "  (6.040321111679077, 0.8516541642623582),\n",
       "  (6.040600776672363, 0.7040747366328761),\n",
       "  (6.042828798294067, 0.4451901565995526),\n",
       "  (6.045378923416138, 0.22055765183497092),\n",
       "  (6.047418832778931, 0.47753990509059535),\n",
       "  (6.052941799163818, 0.8028922435287185),\n",
       "  (6.056158065795898, 0.796035776888849),\n",
       "  (6.058935165405273, 0.801411780676252),\n",
       "  (6.0627968311309814, 0.8237291288777266),\n",
       "  (6.067020893096924, 0.9277753768383556),\n",
       "  (6.071691989898682, 0.8678034200597775),\n",
       "  (6.076947927474976, 0.914871635931608),\n",
       "  (6.082897901535034, 0.8516541642623582),\n",
       "  (6.088024854660034, 1.0932716049382716),\n",
       "  (6.0883519649505615, 0.7040747366328761),\n",
       "  (6.090673923492432, 0.4451901565995526),\n",
       "  (6.107156038284302, 0.22055765183497092),\n",
       "  (6.107701063156128, 0.47753990509059535),\n",
       "  (6.112652063369751, 0.8635720903018187),\n",
       "  (6.116224050521851, 0.8618596333288726),\n",
       "  (6.120199918746948, 1.0695209770678906),\n",
       "  (6.124581813812256, 0.9793198783522256),\n",
       "  (6.1282408237457275, 1.0446502300342102),\n",
       "  (6.1333839893341064, 0.9136917044985555),\n",
       "  (6.137866020202637, 0.9244219426901196),\n",
       "  (6.1429808139801025, 0.8678884696427697),\n",
       "  (6.147707939147949, 0.8573434020718366),\n",
       "  (6.150319814682007, 0.40600142126859684),\n",
       "  (6.16437292098999, 0.33721749395479905),\n",
       "  (6.164690017700195, 0.645138964776163),\n",
       "  (6.164945840835571, 0.7040747366328761),\n",
       "  (6.169286012649536, 0.8635720903018187),\n",
       "  (6.172504901885986, 0.8618596333288726),\n",
       "  (6.17566704750061, 1.0695209770678906),\n",
       "  (6.179807901382446, 0.9793198783522256),\n",
       "  (6.183055877685547, 1.0446502300342102),\n",
       "  (6.187197923660278, 0.9136917044985555),\n",
       "  (6.190733909606934, 0.9244219426901196),\n",
       "  (6.1950578689575195, 0.8678884696427697),\n",
       "  (6.199275970458984, 0.8573434020718366),\n",
       "  (6.200039863586426, 0.40600142126859684),\n",
       "  (6.214285850524902, 0.33721749395479905),\n",
       "  (6.214639902114868, 0.645138964776163),\n",
       "  (6.214923143386841, 0.7040747366328761),\n",
       "  (6.218273878097534, 0.8635720903018187),\n",
       "  (6.2209389209747314, 0.8573434020718366),\n",
       "  (6.2241370677948, 0.8618596333288726),\n",
       "  (6.227380990982056, 1.0695209770678906),\n",
       "  (6.231416940689087, 0.9793198783522256),\n",
       "  (6.234680891036987, 1.0446502300342102),\n",
       "  (6.237360954284668, 0.9244219426901196),\n",
       "  (6.240194797515869, 0.9136917044985555),\n",
       "  (6.243383169174194, 0.8678884696427697),\n",
       "  (6.244072914123535, 0.40600142126859684),\n",
       "  (6.245565891265869, 0.33721749395479905),\n",
       "  (6.245837926864624, 0.7040747366328761),\n",
       "  (6.247005939483643, 0.645138964776163),\n",
       "  (6.2521138191223145, 0.8635720903018187),\n",
       "  (6.255239009857178, 0.8618596333288726),\n",
       "  (6.258995056152344, 1.0695209770678906),\n",
       "  (6.263492822647095, 0.9793198783522256),\n",
       "  (6.267560005187988, 1.0446502300342102),\n",
       "  (6.272150754928589, 0.9136917044985555),\n",
       "  (6.276402950286865, 0.9244219426901196),\n",
       "  (6.281721830368042, 0.8678884696427697),\n",
       "  (6.28670072555542, 0.8573434020718366),\n",
       "  (6.289535999298096, 0.40600142126859684),\n",
       "  (6.303180932998657, 0.33721749395479905),\n",
       "  (6.303532123565674, 0.645138964776163),\n",
       "  (6.30378794670105, 0.7040747366328761),\n",
       "  (6.307977914810181, 0.8635720903018187),\n",
       "  (6.311840057373047, 0.8573434020718366),\n",
       "  (6.3153159618377686, 0.8618596333288726),\n",
       "  (6.3197410106658936, 1.0695209770678906),\n",
       "  (6.324264049530029, 0.9793198783522256),\n",
       "  (6.328056812286377, 1.0446502300342102),\n",
       "  (6.331634998321533, 0.9244219426901196),\n",
       "  (6.335498094558716, 0.9136917044985555),\n",
       "  ...],\n",
       " 'unique': {-8531530558052705841: 96,\n",
       "  -5416825497664156277: 104,\n",
       "  -8205129048257366056: 104,\n",
       "  8758573768669278746: 104,\n",
       "  -1941533453222131383: 63,\n",
       "  -2264894926015821399: 102,\n",
       "  -3752156178562165135: 50,\n",
       "  -27035394091732582: 50,\n",
       "  -3458411007143834411: 62,\n",
       "  1119692300099917388: 42,\n",
       "  -7589929889353565549: 66,\n",
       "  -5895206355874483596: 14,\n",
       "  -2327394247037500945: 140,\n",
       "  3424991176157149646: 8,\n",
       "  7943644947315597503: 173,\n",
       "  -6550708460485342776: 4,\n",
       "  1705051094878198299: 18,\n",
       "  -8442256011105800768: 66,\n",
       "  8045832297317074633: 14,\n",
       "  -547040743679996465: 140,\n",
       "  -6526811706678550668: 8,\n",
       "  451546828903103973: 4,\n",
       "  -3073966709660301895: 4,\n",
       "  3151879904041809959: 18,\n",
       "  -206966365741328510: 140,\n",
       "  3986267421896665521: 8,\n",
       "  8606997803065805014: 8,\n",
       "  -6038056077833064797: 14,\n",
       "  5510954986079242887: 18,\n",
       "  5996458749781266017: 68,\n",
       "  1307722603652769878: 16,\n",
       "  3355994367572221526: 10,\n",
       "  620156412491167947: 10,\n",
       "  -8585031643318047355: 4,\n",
       "  8918469803496802351: 4,\n",
       "  -3694803398506529785: 19,\n",
       "  -6800986753680368973: 4,\n",
       "  8481969156787192247: 26,\n",
       "  2713792488462883538: 3,\n",
       "  -7506882713054181629: 3,\n",
       "  1491412484310330077: 50,\n",
       "  2367441904280176035: 2,\n",
       "  -8518949432028282007: 25,\n",
       "  -1251775702994751462: 7,\n",
       "  -5086670562894827003: 26,\n",
       "  2085961605464003670: 50,\n",
       "  -7991028091112036407: 25,\n",
       "  -9078613826741778563: 7,\n",
       "  -6033338397143234636: 27,\n",
       "  -8280661856815943383: 75,\n",
       "  2795756990569419265: 30,\n",
       "  -3987162854206085389: 47,\n",
       "  349101407866227375: 55,\n",
       "  -1182373429672958302: 4,\n",
       "  -8335307745644380608: 4,\n",
       "  265062902810759841: 18,\n",
       "  936484513492990619: 2,\n",
       "  -3448192586480500764: 2,\n",
       "  2992066552271900875: 6,\n",
       "  -2347198590451372024: 6,\n",
       "  6853762207469361142: 6,\n",
       "  -146411671848099880: 4,\n",
       "  -7810439183607865308: 4,\n",
       "  -2137135293018912064: 12,\n",
       "  8306514784381981254: 2,\n",
       "  -6192218749238133073: 2,\n",
       "  -2940142475677531932: 6,\n",
       "  -1326182031004274433: 6,\n",
       "  -8885109159147922326: 4,\n",
       "  8239995037253558008: 4,\n",
       "  -1087114419012073579: 4,\n",
       "  -5274193692674856363: 2,\n",
       "  1950341278795892902: 2,\n",
       "  -5840060963004336020: 6,\n",
       "  -4780088645300320747: 38,\n",
       "  2522535469101106755: 4,\n",
       "  5485546612718007323: 4,\n",
       "  -5755864728544948181: 2,\n",
       "  -8422481522205329630: 2,\n",
       "  4165945839621765159: 6,\n",
       "  3362954724669157777: 6,\n",
       "  -6117732864787747344: 6,\n",
       "  -3430942519331411815: 38,\n",
       "  -4780118123831562128: 18,\n",
       "  6279383050976719486: 2,\n",
       "  1690322682319320415: 2,\n",
       "  -2806322021920087167: 2,\n",
       "  -3212225311528030185: 4,\n",
       "  2958271368189870807: 4,\n",
       "  3803815787799828604: 4,\n",
       "  4143890165738496559: 4,\n",
       "  3116223963298738511: 6,\n",
       "  905321742740900949: 6,\n",
       "  1061853970168582429: 4,\n",
       "  5471870978635548852: 4,\n",
       "  2251814362874097015: 6,\n",
       "  6243539682520338022: 4,\n",
       "  7750745956514006786: 4,\n",
       "  -2505619642106611886: 4,\n",
       "  7641107425203473563: 4,\n",
       "  8740492071466040816: 4,\n",
       "  6626417027386293809: 2,\n",
       "  -7822768522790437188: 2,\n",
       "  -1930003650205778560: 4,\n",
       "  -6159216342891822881: 4,\n",
       "  -3113685129830056412: 4,\n",
       "  -4580568605501458958: 6,\n",
       "  6551806231991260223: 45,\n",
       "  -4548524981232471434: 4,\n",
       "  5823379152301517775: 4,\n",
       "  8670371931268865558: 4,\n",
       "  -5510235781013108675: 4,\n",
       "  -1470753021434118262: 20,\n",
       "  -4049662175227764935: 20,\n",
       "  1913081068592493162: 20,\n",
       "  -6759427201790308996: 4,\n",
       "  -6298910328235960952: 4,\n",
       "  2708821153233540353: 4,\n",
       "  -6869356241857065422: 2,\n",
       "  -7717642889234105579: 2,\n",
       "  7108026566865933797: 1,\n",
       "  -1379824510891880426: 1},\n",
       " 'time': 12.648566007614136,\n",
       " 'cr_core': np.float64(62.963562753036435),\n",
       " 'cr_start': 1.434089068825911,\n",
       " 'reconstruction_error': np.float64(0.09942890584885539),\n",
       " 'best_network': <pytens.algs.TensorNetwork at 0x127c3c740>}"
      ]
     },
     "execution_count": 3,
     "metadata": {},
     "output_type": "execute_result"
    }
   ],
   "source": [
    "from pytens.search.search import *\n",
    "\n",
    "engine = SearchEngine({\"eps\": 0.1, \"beam_size\": 50, \"max_ops\": 6, \"no_heuristic\": False, \"prune\": False, \"consider_ranks\": False, \"split_errors\": 0, \"guided\": False, \"start_from\": [\"core\", \"ht\"], \"verbose\": True})\n",
    "engine.beam(net, target_tensor)"
   ]
  },
  {
   "cell_type": "code",
   "execution_count": 4,
   "metadata": {},
   "outputs": [
    {
     "data": {
      "image/png": "[encoded data removed]",
      "text/plain": [
       "<Figure size 640x480 with 1 Axes>"
      ]
     },
     "metadata": {},
     "output_type": "display_data"
    }
   ],
   "source": [
    "net.draw()"
   ]
  },
  {
   "cell_type": "code",
   "execution_count": 21,
   "metadata": {},
   "outputs": [
    {
     "data": {
      "image/png": "[encoded data removed]",
      "text/plain": [
       "<Figure size 640x480 with 1 Axes>"
      ]
     },
     "metadata": {},
     "output_type": "display_data"
    }
   ],
   "source": [
    "# separate out the node G1\n",
    "g1_net = TensorNetwork()\n",
    "g1_net.add_node(\"G1\", net.network.nodes[\"G1\"][\"tensor\"])\n",
    "g1_net.draw()"
   ]
  },
  {
   "cell_type": "code",
   "execution_count": 225,
   "metadata": {},
   "outputs": [],
   "source": [
    "params = {\"eps\": 0.1, \"beam_size\": 50, \"max_ops\": 6, \"no_heuristic\": False, \"prune\": False, \"consider_ranks\": False, \"split_errors\": 5, \"guided\": False, \"start_from\": [\"core\", \"ht\"], \"verbose\": True}\n",
    "engine = BeamSearch(params)\n",
    "delta = np.sqrt((params[\"eps\"] * np.linalg.norm(target_tensor)) ** 2 - np.linalg.norm(net.contract().value.squeeze() - target_tensor) ** 2)\n",
    "g1_search_state = SearchState(g1_net, delta)\n",
    "g1_stats = engine.search(g1_search_state, guided=False)"
   ]
  },
  {
   "cell_type": "code",
   "execution_count": 249,
   "metadata": {},
   "outputs": [],
   "source": [
    "delta = np.sqrt((params[\"eps\"] * np.linalg.norm(target_tensor)) ** 2 - np.linalg.norm(net.contract().value.squeeze() - target_tensor) ** 2)\n"
   ]
  },
  {
   "cell_type": "code",
   "execution_count": 23,
   "metadata": {},
   "outputs": [
    {
     "data": {
      "image/png": "[encoded data removed]",
      "text/plain": [
       "<Figure size 640x480 with 1 Axes>"
      ]
     },
     "metadata": {},
     "output_type": "display_data"
    }
   ],
   "source": [
    "engine.best_network.draw()"
   ]
  },
  {
   "cell_type": "code",
   "execution_count": 250,
   "metadata": {},
   "outputs": [
    {
     "data": {
      "image/png": "[encoded data removed]",
      "text/plain": [
       "<Figure size 640x480 with 1 Axes>"
      ]
     },
     "metadata": {},
     "output_type": "display_data"
    }
   ],
   "source": [
    "net.draw()"
   ]
  },
  {
   "cell_type": "code",
   "execution_count": 251,
   "metadata": {},
   "outputs": [
    {
     "name": "stdout",
     "output_type": "stream",
     "text": [
      "195717320000.0 195717320000.0\n"
     ]
    }
   ],
   "source": [
    "net_val = net.contract().value\n",
    "print(delta ** 2 + np.linalg.norm(net_val - target_tensor) ** 2, (0.1 * np.linalg.norm(target_tensor)) ** 2)"
   ]
  },
  {
   "cell_type": "code",
   "execution_count": 287,
   "metadata": {},
   "outputs": [],
   "source": [
    "import copy\n",
    "tmp_net = copy.deepcopy(net)\n",
    "_, rd = tmp_net.delta_split(\"G1\", [0,2], [1], delta=delta)\n",
    "# u,s,v = tmp_net.split(\"G1\", [0,2], [1])"
   ]
  },
  {
   "cell_type": "code",
   "execution_count": 288,
   "metadata": {},
   "outputs": [
    {
     "data": {
      "image/png": "[encoded data removed]",
      "text/plain": [
       "<Figure size 640x480 with 1 Axes>"
      ]
     },
     "metadata": {},
     "output_type": "display_data"
    }
   ],
   "source": [
    "tmp_net.draw()"
   ]
  },
  {
   "cell_type": "code",
   "execution_count": 267,
   "metadata": {},
   "outputs": [
    {
     "ename": "KeyError",
     "evalue": "'n1'",
     "output_type": "error",
     "traceback": [
      "\u001b[0;31m---------------------------------------------------------------------------\u001b[0m",
      "\u001b[0;31mKeyError\u001b[0m                                  Traceback (most recent call last)",
      "Cell \u001b[0;32mIn[267], line 1\u001b[0m\n\u001b[0;32m----> 1\u001b[0m s_vals \u001b[38;5;241m=\u001b[39m np\u001b[38;5;241m.\u001b[39mcumsum(np\u001b[38;5;241m.\u001b[39mflip(np\u001b[38;5;241m.\u001b[39mdiag(\u001b[43mtmp_net\u001b[49m\u001b[38;5;241;43m.\u001b[39;49m\u001b[43mnetwork\u001b[49m\u001b[38;5;241;43m.\u001b[39;49m\u001b[43mnodes\u001b[49m\u001b[43m[\u001b[49m\u001b[43ms\u001b[49m\u001b[43m]\u001b[49m[\u001b[38;5;124m\"\u001b[39m\u001b[38;5;124mtensor\u001b[39m\u001b[38;5;124m\"\u001b[39m]\u001b[38;5;241m.\u001b[39mvalue)) \u001b[38;5;241m*\u001b[39m\u001b[38;5;241m*\u001b[39m \u001b[38;5;241m2\u001b[39m) \n\u001b[1;32m      2\u001b[0m s_vals\n",
      "File \u001b[0;32m/opt/homebrew/Caskroom/miniconda/base/envs/tensor_networks/lib/python3.12/site-packages/networkx/classes/reportviews.py:196\u001b[0m, in \u001b[0;36mNodeView.__getitem__\u001b[0;34m(self, n)\u001b[0m\n\u001b[1;32m    191\u001b[0m \u001b[38;5;28;01mif\u001b[39;00m \u001b[38;5;28misinstance\u001b[39m(n, \u001b[38;5;28mslice\u001b[39m):\n\u001b[1;32m    192\u001b[0m     \u001b[38;5;28;01mraise\u001b[39;00m nx\u001b[38;5;241m.\u001b[39mNetworkXError(\n\u001b[1;32m    193\u001b[0m         \u001b[38;5;124mf\u001b[39m\u001b[38;5;124m\"\u001b[39m\u001b[38;5;132;01m{\u001b[39;00m\u001b[38;5;28mtype\u001b[39m(\u001b[38;5;28mself\u001b[39m)\u001b[38;5;241m.\u001b[39m\u001b[38;5;18m__name__\u001b[39m\u001b[38;5;132;01m}\u001b[39;00m\u001b[38;5;124m does not support slicing, \u001b[39m\u001b[38;5;124m\"\u001b[39m\n\u001b[1;32m    194\u001b[0m         \u001b[38;5;124mf\u001b[39m\u001b[38;5;124m\"\u001b[39m\u001b[38;5;124mtry list(G.nodes)[\u001b[39m\u001b[38;5;132;01m{\u001b[39;00mn\u001b[38;5;241m.\u001b[39mstart\u001b[38;5;132;01m}\u001b[39;00m\u001b[38;5;124m:\u001b[39m\u001b[38;5;132;01m{\u001b[39;00mn\u001b[38;5;241m.\u001b[39mstop\u001b[38;5;132;01m}\u001b[39;00m\u001b[38;5;124m:\u001b[39m\u001b[38;5;132;01m{\u001b[39;00mn\u001b[38;5;241m.\u001b[39mstep\u001b[38;5;132;01m}\u001b[39;00m\u001b[38;5;124m]\u001b[39m\u001b[38;5;124m\"\u001b[39m\n\u001b[1;32m    195\u001b[0m     )\n\u001b[0;32m--> 196\u001b[0m \u001b[38;5;28;01mreturn\u001b[39;00m \u001b[38;5;28;43mself\u001b[39;49m\u001b[38;5;241;43m.\u001b[39;49m\u001b[43m_nodes\u001b[49m\u001b[43m[\u001b[49m\u001b[43mn\u001b[49m\u001b[43m]\u001b[49m\n",
      "\u001b[0;31mKeyError\u001b[0m: 'n1'"
     ]
    }
   ],
   "source": [
    "s_vals = np.cumsum(np.flip(np.diag(tmp_net.network.nodes[s][\"tensor\"].value)) ** 2) \n",
    "s_vals"
   ]
  },
  {
   "cell_type": "code",
   "execution_count": 261,
   "metadata": {},
   "outputs": [
    {
     "data": {
      "text/plain": [
       "array([1.0094146e+09, 2.1242819e+09, 3.4025728e+09, 4.9975204e+09,\n",
       "       6.7782385e+09, 8.6568858e+09, 1.0865288e+10, 1.3428027e+10,\n",
       "       1.6035568e+10, 1.8984401e+10, 2.2652649e+10, 2.6816582e+10,\n",
       "       3.1221375e+10, 3.6026724e+10, 4.0898494e+10, 4.6458241e+10],\n",
       "      dtype=float32)"
      ]
     },
     "execution_count": 261,
     "metadata": {},
     "output_type": "execute_result"
    }
   ],
   "source": [
    "s_vals[s_vals < delta ** 2]"
   ]
  },
  {
   "cell_type": "code",
   "execution_count": 289,
   "metadata": {},
   "outputs": [
    {
     "name": "stdout",
     "output_type": "stream",
     "text": [
      "4423995.0 4402134.196591467 4402116.0 4407402.586071756 4407389.0\n",
      "0.0993158\n",
      "195716990000.0 195717320000.0 195717320000.0\n",
      "19378815000000.0 19571732000000.0\n"
     ]
    }
   ],
   "source": [
    "tmp_val = tmp_net.contract().value\n",
    "print(np.linalg.norm(target_tensor), tmp_net.norm(), np.linalg.norm(tmp_val), net.norm(), np.linalg.norm(net_val))\n",
    "print(np.linalg.norm(target_tensor - tmp_val) / np.linalg.norm(target_tensor))\n",
    "print(np.linalg.norm(tmp_val - target_tensor) ** 2 + rd ** 2, np.linalg.norm(net_val - target_tensor) ** 2 + delta ** 2, (0.1 * np.linalg.norm(target_tensor)) ** 2)\n",
    "print(s_vals[-1], np.linalg.norm(target_tensor) ** 2)"
   ]
  },
  {
   "cell_type": "code",
   "execution_count": 301,
   "metadata": {},
   "outputs": [
    {
     "data": {
      "image/png": "[encoded data removed]",
      "text/plain": [
       "<Figure size 640x480 with 1 Axes>"
      ]
     },
     "metadata": {},
     "output_type": "display_data"
    }
   ],
   "source": [
    "ttmp_net = copy.deepcopy(tmp_net)\n",
    "ttmp_net.merge(\"n0\", \"G6\")\n",
    "ttmp_net.merge(\"G1\", \"G5\")\n",
    "ttmp_net.merge(\"G1\", \"n0\")\n",
    "ttmp_net.merge(\"G2\", \"G4\")\n",
    "ttmp_net.merge(\"G1\", \"G2\")\n",
    "ttmp_net.merge(\"G1\", \"G3\")\n",
    "ttmp_net.draw()"
   ]
  },
  {
   "cell_type": "code",
   "execution_count": 302,
   "metadata": {},
   "outputs": [
    {
     "name": "stdout",
     "output_type": "stream",
     "text": [
      "193048280000.0 193048610000.0\n"
     ]
    }
   ],
   "source": [
    "ttmp_val = ttmp_net.contract().value\n",
    "print(np.linalg.norm(target_tensor - ttmp_val) ** 2, (0.1 * np.linalg.norm(target_tensor)) ** 2 - rd ** 2)"
   ]
  },
  {
   "cell_type": "code",
   "execution_count": 303,
   "metadata": {},
   "outputs": [
    {
     "data": {
      "text/plain": [
       "[Index(name='I0', size=18),\n",
       " Index(name='I1', size=120),\n",
       " Index(name='I3', size=12),\n",
       " Index(name='I2', size=120)]"
      ]
     },
     "execution_count": 303,
     "metadata": {},
     "output_type": "execute_result"
    }
   ],
   "source": [
    "ttmp_net.network.nodes[\"G1\"][\"tensor\"].indices"
   ]
  },
  {
   "cell_type": "code",
   "execution_count": 304,
   "metadata": {},
   "outputs": [
    {
     "name": "stdout",
     "output_type": "stream",
     "text": [
      "[ 5594914.5   6061567.5  10023036.    8283990.   15874140.   39795300.\n",
      " 48285596.   51908132.   52185592.   52139584.   29588316.   16951550.\n",
      " 82516016.   82274304.   76854600.   80230840.   84342880.   85951808.\n",
      " 84519760.   89830192.   83858792.   83276456.    8938604.    9344953.\n",
      " 45976744.   46667164.   44522784.   45919104.   49022364.   55281264.\n",
      " 56434956.   60838960.   56858500.   57613648.    9967116.    7710853.\n",
      "  8570233.   10045275.   14280268.   16230273.   23958184.   35733416.\n",
      " 40131288.   41763520.   44451676.   43939432.   44696672.   31415446.\n",
      "  2126400.2   3282333.8   6518944.    5552669.5  11230910.   28151268.\n",
      " 34159976.   36502460.   37103776.   36555272.   22702850.   13285478.\n",
      "  1260328.4   1971066.8   3814500.    3404662.8   6626256.5  15749905.\n",
      " 18988788.   20179096.   20660392.   20537586.   13163355.    7867706.5\n",
      "  9794002.   12205533.   14184506.   16227000.   19869326.   23756838.\n",
      " 25147920.   26719966.   27354218.   26329096.   25785012.   19004678.\n",
      "   975004.    1021995.1    994663.94  1137013.    1189593.     946626.8\n",
      "   851892.06   906924.3    882264.2    883127.2    772703.75   678538.4\n",
      "  1311686.1   1324431.4   1200964.6   1366740.1   1311960.4    756292.8\n",
      "   542025.1    587126.25   506629.2    523041.8    302358.47   407634.16\n",
      "  2611411.2   3124394.8   6203047.    5006280.   10981223.   28302654.\n",
      " 34390308.   36288980.   37222452.   36934224.   21000838.   11913343.\n",
      "  1975491.2   2818684.    6592634.5   4582892.   11920848.   34880264.\n",
      " 42864036.   45184368.   46177668.   45834136.   22042400.   11350230.\n",
      "  4082375.2   4945368.    8709693.    7206687.   14612425.   36392496.\n",
      " 44002996.   46507440.   47477072.   47027388.   25517160.   14337302.\n",
      "  6819477.5   9580004.   13203274.   15754125.   21346372.   28082848.\n",
      " 30719484.   32335980.   34311352.   33951032.   39316096.   28480142.\n",
      "  2158293.    3560485.    6386176.5   6304564.5  11059601.   23044512.\n",
      " 27334120.   28956664.   29901156.   29591502.   21854238.   13818274.\n",
      "  3545391.5   5929957.5   9900704.   10225062.   16989054.   32409674.\n",
      " 37900108.   39863752.   41465376.   40273180.   31555806.   20426486.\n",
      " 32542522.   29698538.   28062210.   27555770.   31081516.   40230176.\n",
      " 42694592.   44998392.   43140336.   46626500.    4310526.5   2210840.2\n",
      "  2482477.    3672855.2   6411563.5   6554612.   11218426.   22063554.\n",
      " 25980646.   27437176.   28525498.   28212188.   22613756.   14673343.\n",
      "  6009242.    5574316.5   9527239.    7778346.   16289946.   40221716.\n",
      " 48618632.   51052296.   52504572.   52832576.   29126696.   16613500.  ]\n",
      "[295594.03 291007.22 290160.2  ... 383738.8  392774.06 395305.84]\n"
     ]
    }
   ],
   "source": [
    "g1_val = ttmp_net.network.nodes[\"G1\"][\"tensor\"].value\n",
    "g1_val_reshaped = g1_val.transpose(1,3,0,2).reshape(g1_val.shape[1] * g1_val.shape[3], g1_val.shape[0] * g1_val.shape[2])\n",
    "# averages along the columns and rows\n",
    "print(g1_val_reshaped.sum(axis=0))\n",
    "print(g1_val_reshaped.sum(axis=1))"
   ]
  },
  {
   "cell_type": "code",
   "execution_count": 305,
   "metadata": {},
   "outputs": [
    {
     "data": {
      "image/png": "[encoded data removed]",
      "text/plain": [
       "<Figure size 640x480 with 1 Axes>"
      ]
     },
     "metadata": {},
     "output_type": "display_data"
    }
   ],
   "source": [
    "u,s,v = ttmp_net.split(\"G1\", [1,3], [0,2])\n",
    "ttmp_net.draw()"
   ]
  },
  {
   "cell_type": "code",
   "execution_count": 299,
   "metadata": {},
   "outputs": [
    {
     "name": "stdout",
     "output_type": "stream",
     "text": [
      "[4.02625275e+06 1.15119538e+06 8.93149812e+05 6.66620562e+05\n",
      " 3.32135656e+05 2.78777344e+05 2.25372969e+05 2.05918141e+05\n",
      " 1.92063953e+05 1.75163938e+05 1.65926984e+05 1.53994688e+05\n",
      " 1.50977938e+05 1.45433969e+05 1.40663875e+05 1.39153812e+05\n",
      " 1.21947797e+05 1.13775406e+05 1.08807625e+05 9.79071484e+04\n",
      " 9.61057891e+04 8.94791641e+04 7.80964922e+04 7.24043047e+04\n",
      " 6.67484375e+04 6.13395273e+04 5.72135078e+04 5.01125508e+04\n",
      " 4.72326719e+04 4.44277070e+04 4.17924648e+04 3.84421328e+04\n",
      " 3.66423672e+04 3.54955820e+04 3.48474570e+04 3.40982539e+04\n",
      " 3.25442246e+04 3.14878633e+04 3.02802070e+04 2.79914199e+04\n",
      " 2.75354492e+04 2.69280605e+04 2.56723145e+04 2.50480566e+04\n",
      " 2.38867402e+04 2.28807793e+04 2.17354785e+04 2.06989980e+04\n",
      " 2.04589609e+04 1.96022871e+04 1.88390801e+04 1.80474961e+04\n",
      " 1.78757500e+04 1.76296758e+04 1.66789531e+04 1.58422783e+04\n",
      " 1.53591445e+04 1.52171484e+04 1.41847695e+04 1.37315137e+04\n",
      " 1.30329727e+04 1.24643018e+04 1.16088545e+04 1.04942344e+04\n",
      " 9.37466406e+03 8.87044727e+03 8.36579395e+03 8.06389893e+03\n",
      " 7.87862598e+03 7.27567285e+03 7.04927051e+03 6.69857373e+03\n",
      " 6.61350488e+03 6.19573535e+03 5.77256738e+03 5.47969727e+03\n",
      " 4.85613135e+03 4.66925391e+03 4.41669482e+03 4.04746484e+03\n",
      " 3.90904248e+03 3.85342456e+03 3.67051465e+03 3.23702539e+03\n",
      " 2.54141927e-01 2.48674303e-01 2.17099860e-01 2.06707463e-01\n",
      " 1.97957605e-01 1.68491140e-01 1.59834504e-01 1.54259428e-01\n",
      " 1.46651834e-01 1.39576942e-01 1.28051147e-01 1.22916408e-01\n",
      " 1.18142158e-01 1.15502596e-01 1.13680452e-01 1.11218646e-01\n",
      " 1.08790256e-01 1.04529127e-01 1.01645529e-01 9.98286158e-02\n",
      " 9.63025168e-02 9.47317258e-02 9.29238647e-02 9.02166963e-02\n",
      " 8.62557366e-02 8.34958404e-02 8.28739703e-02 8.21748450e-02\n",
      " 7.76310414e-02 7.50309080e-02 7.42485374e-02 7.27558061e-02\n",
      " 7.25449473e-02 7.12596849e-02 6.98777586e-02 6.97421804e-02\n",
      " 6.82604387e-02 6.78960159e-02 6.68807775e-02 6.46959096e-02\n",
      " 6.24719299e-02 6.15684092e-02 6.06471375e-02 5.94979860e-02\n",
      " 5.85227534e-02 5.71701713e-02 5.63738644e-02 5.54555319e-02\n",
      " 5.46047725e-02 5.35038747e-02 5.23904711e-02 5.14675155e-02\n",
      " 4.96927574e-02 4.93590981e-02 4.85101491e-02 4.74084429e-02\n",
      " 4.58849780e-02 4.54875603e-02 4.44289967e-02 4.29406092e-02\n",
      " 4.23340574e-02 4.12531346e-02 4.11091857e-02 3.97951938e-02\n",
      " 3.87674831e-02 3.66138443e-02 3.59610170e-02 3.52587812e-02\n",
      " 3.50773595e-02 3.34315524e-02 3.27025242e-02 3.24422680e-02\n",
      " 3.19833942e-02 3.12893651e-02 3.00759189e-02 2.93713864e-02\n",
      " 2.90155895e-02 2.74848081e-02 2.64597088e-02 2.51425765e-02\n",
      " 2.44373567e-02 2.42235214e-02 2.19331421e-02 2.17491724e-02\n",
      " 2.11355425e-02 2.08345018e-02 1.99370626e-02 1.89062804e-02\n",
      " 1.83465071e-02 1.76283699e-02 1.70303769e-02 1.59321856e-02\n",
      " 1.53953759e-02 1.53448451e-02 1.49885546e-02 1.46652823e-02\n",
      " 1.40687618e-02 1.36308176e-02 1.35340337e-02 1.20522939e-02\n",
      " 1.14901010e-02 1.10673318e-02 1.08186761e-02 1.00655602e-02\n",
      " 8.10698885e-03 6.80385809e-03 6.74539059e-03 6.35207957e-03\n",
      " 5.24494145e-03 4.54155076e-03 4.00348753e-03 3.67981591e-03\n",
      " 3.47652193e-03 3.38014425e-03 3.06003890e-03 2.72614695e-03\n",
      " 2.67568603e-03 2.49011046e-03 2.30505108e-03 2.22032983e-03\n",
      " 2.09897198e-03 2.03797990e-03 1.90529402e-03 1.82877225e-03\n",
      " 1.77816954e-03 1.69730594e-03 1.65331468e-03 1.56236649e-03\n",
      " 1.46659673e-03 1.37279520e-03 1.32371113e-03 8.23248702e-04]\n",
      "[7.04097920e+08 7.91982272e+08 9.02111232e+08 1.03687674e+09\n",
      " 1.19223552e+09 1.36209395e+09 1.55064845e+09 1.75185613e+09\n",
      " 1.98341773e+09 2.21932109e+09 2.47029888e+09 2.74848640e+09\n",
      " 3.05929190e+09 3.37883443e+09 3.70454656e+09 4.05945754e+09] 2668707976.1499634 2669035500.0\n"
     ]
    }
   ],
   "source": [
    "print(np.diag(ttmp_net.network.nodes[s][\"tensor\"].value))\n",
    "s_vals = np.cumsum(np.flip(np.diag(ttmp_net.network.nodes[s][\"tensor\"].value)) ** 2) \n",
    "print(s_vals[150:-50], rd**2, (0.1 * np.linalg.norm(target_tensor)) ** 2 - np.linalg.norm(target_tensor - ttmp_val) ** 2)"
   ]
  },
  {
   "cell_type": "code",
   "execution_count": 217,
   "metadata": {},
   "outputs": [
    {
     "name": "stdout",
     "output_type": "stream",
     "text": [
      "192872150000.0 195518907593.20898\n"
     ]
    }
   ],
   "source": [
    "ttmp_val = ttmp_net.contract().value\n",
    "print(np.linalg.norm(target_tensor - ttmp_val) ** 2, (0.1 * np.linalg.norm(target_tensor)) ** 2 - rrd ** 2)"
   ]
  },
  {
   "cell_type": "code",
   "execution_count": 147,
   "metadata": {},
   "outputs": [
    {
     "data": {
      "image/png": "[encoded data removed]",
      "text/plain": [
       "<Figure size 640x480 with 1 Axes>"
      ]
     },
     "metadata": {},
     "output_type": "display_data"
    }
   ],
   "source": [
    "ttmp_net.merge(\"G1\", \"G5\")\n",
    "ttmp_net.merge(\"G2\", \"G4\")\n",
    "ttmp_net.merge(\"G2\", \"G1\")\n",
    "ttmp_net.draw()"
   ]
  },
  {
   "cell_type": "code",
   "execution_count": 148,
   "metadata": {},
   "outputs": [
    {
     "data": {
      "text/plain": [
       "[Index(name='s_2_3', size=43),\n",
       " Index(name='I3', size=12),\n",
       " Index(name='s_1_6', size=43),\n",
       " Index(name='I0', size=18)]"
      ]
     },
     "execution_count": 148,
     "metadata": {},
     "output_type": "execute_result"
    }
   ],
   "source": [
    "ttmp_net.network.nodes[\"G2\"][\"tensor\"].indices"
   ]
  },
  {
   "cell_type": "code",
   "execution_count": 149,
   "metadata": {},
   "outputs": [
    {
     "data": {
      "image/png": "[encoded data removed]",
      "text/plain": [
       "<Figure size 640x480 with 1 Axes>"
      ]
     },
     "metadata": {},
     "output_type": "display_data"
    }
   ],
   "source": [
    "_, rd = ttmp_net.delta_split(\"G2\", [0,2,3], [1], delta=delta)\n",
    "ttmp_net.draw()"
   ]
  },
  {
   "cell_type": "code",
   "execution_count": 150,
   "metadata": {},
   "outputs": [
    {
     "data": {
      "text/plain": [
       "[Index(name='s_0', size=43),\n",
       " Index(name='s_1', size=43),\n",
       " Index(name='I0', size=18),\n",
       " Index(name='s_2', size=4)]"
      ]
     },
     "execution_count": 150,
     "metadata": {},
     "output_type": "execute_result"
    }
   ],
   "source": [
    "ttmp_net.network.nodes[\"G2\"][\"tensor\"].indices"
   ]
  },
  {
   "cell_type": "code",
   "execution_count": 133,
   "metadata": {},
   "outputs": [
    {
     "data": {
      "image/png": "[encoded data removed]",
      "text/plain": [
       "<Figure size 640x480 with 1 Axes>"
      ]
     },
     "metadata": {},
     "output_type": "display_data"
    }
   ],
   "source": [
    "_, rrd = ttmp_net.delta_split(\"G2\", [0,2,3], [1], delta=rrd)\n",
    "ttmp_net.draw()"
   ]
  },
  {
   "cell_type": "code",
   "execution_count": 151,
   "metadata": {},
   "outputs": [
    {
     "data": {
      "text/plain": [
       "'G2'"
      ]
     },
     "execution_count": 151,
     "metadata": {},
     "output_type": "execute_result"
    }
   ],
   "source": [
    "ttmp_net.merge(\"G2\", \"n0\")"
   ]
  },
  {
   "cell_type": "code",
   "execution_count": 152,
   "metadata": {},
   "outputs": [
    {
     "data": {
      "text/plain": [
       "[Index(name='s_0', size=43),\n",
       " Index(name='s_1', size=43),\n",
       " Index(name='I0', size=18),\n",
       " Index(name='I3', size=12)]"
      ]
     },
     "execution_count": 152,
     "metadata": {},
     "output_type": "execute_result"
    }
   ],
   "source": [
    "ttmp_net.network.nodes[\"G2\"][\"tensor\"].indices"
   ]
  },
  {
   "cell_type": "code",
   "execution_count": 153,
   "metadata": {},
   "outputs": [
    {
     "data": {
      "image/png": "[encoded data removed]",
      "text/plain": [
       "<Figure size 640x480 with 1 Axes>"
      ]
     },
     "metadata": {},
     "output_type": "display_data"
    }
   ],
   "source": [
    "u, s, v = ttmp_net.split(\"G2\", [0,1,2], [3])\n",
    "ttmp_net.draw()\n"
   ]
  },
  {
   "cell_type": "code",
   "execution_count": 154,
   "metadata": {},
   "outputs": [],
   "source": [
    "s_vals = np.cumsum(np.flip(np.diag(ttmp_net.network.nodes[s][\"tensor\"].value))) ** 2"
   ]
  },
  {
   "cell_type": "code",
   "execution_count": 155,
   "metadata": {},
   "outputs": [
    {
     "data": {
      "text/plain": [
       "array([5.60967543e-04, 3.48596554e-03, 1.00693107e-02, 2.07696483e-02,\n",
       "       3.75921428e-02, 6.28993288e-02, 1.04144804e-01, 1.61573872e-01,\n",
       "       1.02859457e+11, 7.59311630e+11, 4.72660627e+12, 4.01279046e+13],\n",
       "      dtype=float32)"
      ]
     },
     "execution_count": 155,
     "metadata": {},
     "output_type": "execute_result"
    }
   ],
   "source": [
    "s_vals"
   ]
  },
  {
   "cell_type": "code",
   "execution_count": 156,
   "metadata": {},
   "outputs": [
    {
     "data": {
      "text/plain": [
       "37404066514.77004"
      ]
     },
     "execution_count": 156,
     "metadata": {},
     "output_type": "execute_result"
    }
   ],
   "source": [
    "rd ** 2"
   ]
  },
  {
   "cell_type": "code",
   "execution_count": 157,
   "metadata": {},
   "outputs": [
    {
     "data": {
      "text/plain": [
       "'n0'"
      ]
     },
     "execution_count": 157,
     "metadata": {},
     "output_type": "execute_result"
    }
   ],
   "source": [
    "utensor = ttmp_net.network.nodes[u][\"tensor\"]\n",
    "ttmp_net.network.nodes[u][\"tensor\"].update_val_size(utensor.value[...,:8])\n",
    "stensor = ttmp_net.network.nodes[s][\"tensor\"]\n",
    "ttmp_net.network.nodes[s][\"tensor\"].update_val_size(stensor.value[:8,:8])\n",
    "vtensor = ttmp_net.network.nodes[v][\"tensor\"]\n",
    "ttmp_net.network.nodes[v][\"tensor\"].update_val_size(vtensor.value[:8,...])\n",
    "ttmp_net.merge(v, s)\n"
   ]
  },
  {
   "cell_type": "code",
   "execution_count": 158,
   "metadata": {},
   "outputs": [
    {
     "data": {
      "image/png": "[encoded data removed]",
      "text/plain": [
       "<Figure size 640x480 with 1 Axes>"
      ]
     },
     "metadata": {},
     "output_type": "display_data"
    }
   ],
   "source": [
    "ttmp_net.draw()"
   ]
  },
  {
   "cell_type": "code",
   "execution_count": 159,
   "metadata": {},
   "outputs": [
    {
     "name": "stdout",
     "output_type": "stream",
     "text": [
      "193401.30949600638 193401.31\n"
     ]
    }
   ],
   "source": [
    "rrd = np.sqrt(rd ** 2 - s_vals[4])\n",
    "print(rd, rrd)"
   ]
  },
  {
   "cell_type": "code",
   "execution_count": 163,
   "metadata": {},
   "outputs": [
    {
     "data": {
      "image/png": "[encoded data removed]",
      "text/plain": [
       "<Figure size 640x480 with 1 Axes>"
      ]
     },
     "metadata": {},
     "output_type": "display_data"
    }
   ],
   "source": [
    "tttmp_net = copy.deepcopy(ttmp_net)\n",
    "# tttmp_net.merge(\"G2\", \"G1\")\n",
    "# tttmp_net.merge(\"G2\", \"G5\")\n",
    "# tttmp_net.merge(\"G2\", \"G3\")\n",
    "tttmp_net.draw()"
   ]
  },
  {
   "cell_type": "code",
   "execution_count": 164,
   "metadata": {},
   "outputs": [
    {
     "data": {
      "text/plain": [
       "[Index(name='s_2', size=43),\n",
       " Index(name='s_0', size=43),\n",
       " Index(name='I0', size=18),\n",
       " Index(name='s_3', size=8)]"
      ]
     },
     "execution_count": 164,
     "metadata": {},
     "output_type": "execute_result"
    }
   ],
   "source": [
    "tttmp_net.network.nodes[\"G2\"][\"tensor\"].indices"
   ]
  },
  {
   "cell_type": "code",
   "execution_count": 165,
   "metadata": {},
   "outputs": [
    {
     "data": {
      "image/png": "[encoded data removed]",
      "text/plain": [
       "<Figure size 640x480 with 1 Axes>"
      ]
     },
     "metadata": {},
     "output_type": "display_data"
    }
   ],
   "source": [
    "tttmp_net.delta_split(\"G2\", [2,3], [0,1], delta=rrd)\n",
    "tttmp_net.draw()"
   ]
  },
  {
   "cell_type": "code",
   "execution_count": 306,
   "metadata": {},
   "outputs": [],
   "source": [
    "x = np.random.randn(4,5,6)"
   ]
  },
  {
   "cell_type": "code",
   "execution_count": 311,
   "metadata": {},
   "outputs": [],
   "source": [
    "xu, xs, xv = np.linalg.svd(x.reshape(4, 30), False, True)"
   ]
  },
  {
   "cell_type": "code",
   "execution_count": 312,
   "metadata": {},
   "outputs": [
    {
     "data": {
      "text/plain": [
       "array([6.94279462, 5.62943617, 4.64741822, 3.20729132])"
      ]
     },
     "execution_count": 312,
     "metadata": {},
     "output_type": "execute_result"
    }
   ],
   "source": [
    "xs"
   ]
  },
  {
   "cell_type": "code",
   "execution_count": 315,
   "metadata": {},
   "outputs": [
    {
     "name": "stdout",
     "output_type": "stream",
     "text": [
      "[[ 0.58208452  0.98362336  0.79637559 -1.5912426   1.3536414   0.24463865\n",
      "   0.96106757  0.90575415  0.4182699   1.19596881  1.17979936 -2.38144233\n",
      "  -0.93220416  1.27091248  0.33764383 -0.17214793  2.22947129 -2.23659868\n",
      "  -0.25800479 -0.96661018  0.36879209  1.33083269  1.69810521  0.17743139\n",
      "  -1.42838283  0.81921088  2.2622132   1.96366188 -0.97506986  0.60457077]\n",
      " [ 2.06156535 -0.07653533 -0.87468479 -0.15453337  2.34557065 -0.30520618\n",
      "   0.12403974  0.26961544 -0.08323153 -1.12510146  0.09229802  1.51805093\n",
      "  -0.09735804 -0.81415868  1.44893278  0.3119133   0.1643397  -0.92569927\n",
      "   2.31790891 -0.48025546 -0.18536218 -0.29702937  1.06436106 -1.4080568\n",
      "  -0.03872258 -1.07488565 -0.03222841 -1.38060768 -1.23573844  0.4376733 ]\n",
      " [-0.26132623 -1.54646992 -0.21459511  0.53923985  1.32228038 -0.1334992\n",
      "  -0.52649658 -0.45997369 -0.90242088 -0.25441602  0.94914515 -1.845342\n",
      "  -0.72435925 -0.1569232  -0.79541649  0.80985174  0.30597192 -0.08573191\n",
      "   0.47919705 -1.3421853  -0.87772651  0.19801459 -1.41394679 -0.30686393\n",
      "   0.97221522 -0.87674047 -1.1284731   1.00335205  0.27376608  0.64775328]\n",
      " [ 0.8698875  -0.25726476 -0.24324049  0.15022078 -0.62251946 -0.0972299\n",
      "  -0.44787216 -0.50375224  0.41711917 -1.00207129  0.43330543  0.17149301\n",
      "  -0.86322201  0.18629599 -0.22765383 -0.98016698  0.95063872  0.26444622\n",
      "  -0.17346151 -0.16783095  0.15758102 -0.64110749  1.23841513 -0.03881124\n",
      "   0.94539951  0.32184714 -0.46473606  0.79201555  0.38319945 -0.59383387]]\n"
     ]
    },
    {
     "data": {
      "text/plain": [
       "array([6.2934598 , 4.92885821, 4.36491223, 3.42599109, 3.19324939,\n",
       "       2.62491286])"
      ]
     },
     "execution_count": 315,
     "metadata": {},
     "output_type": "execute_result"
    }
   ],
   "source": [
    "y = np.diag(xs) @ xv\n",
    "print(y)\n",
    "yu, ys, yv = np.linalg.svd(y.reshape(4, 5, 6).reshape(20, 6), False, True)\n",
    "ys"
   ]
  },
  {
   "cell_type": "code",
   "execution_count": 317,
   "metadata": {},
   "outputs": [
    {
     "name": "stdout",
     "output_type": "stream",
     "text": [
      "[[ 0.58208452  0.98362336  0.79637559 -1.5912426   1.3536414   0.24463865\n",
      "   0.96106757  0.90575415  0.4182699   1.19596881  1.17979936 -2.38144233\n",
      "  -0.93220416  1.27091248  0.33764383 -0.17214793  2.22947129 -2.23659868\n",
      "  -0.25800479 -0.96661018  0.36879209  1.33083269  1.69810521  0.17743139\n",
      "  -1.42838283  0.81921088  2.2622132   1.96366188 -0.97506986  0.60457077]\n",
      " [ 2.06156535 -0.07653533 -0.87468479 -0.15453337  2.34557065 -0.30520618\n",
      "   0.12403974  0.26961544 -0.08323153 -1.12510146  0.09229802  1.51805093\n",
      "  -0.09735804 -0.81415868  1.44893278  0.3119133   0.1643397  -0.92569927\n",
      "   2.31790891 -0.48025546 -0.18536218 -0.29702937  1.06436106 -1.4080568\n",
      "  -0.03872258 -1.07488565 -0.03222841 -1.38060768 -1.23573844  0.4376733 ]\n",
      " [-0.26132623 -1.54646992 -0.21459511  0.53923985  1.32228038 -0.1334992\n",
      "  -0.52649658 -0.45997369 -0.90242088 -0.25441602  0.94914515 -1.845342\n",
      "  -0.72435925 -0.1569232  -0.79541649  0.80985174  0.30597192 -0.08573191\n",
      "   0.47919705 -1.3421853  -0.87772651  0.19801459 -1.41394679 -0.30686393\n",
      "   0.97221522 -0.87674047 -1.1284731   1.00335205  0.27376608  0.64775328]]\n"
     ]
    },
    {
     "data": {
      "text/plain": [
       "array([6.1443251 , 4.87828938, 3.95341252, 3.21012898, 2.87236693,\n",
       "       2.39919074])"
      ]
     },
     "execution_count": 317,
     "metadata": {},
     "output_type": "execute_result"
    }
   ],
   "source": [
    "yy = np.diag(xs[:3])@ xv[:3]\n",
    "print(yy)\n",
    "yyu, yys, yyv = np.linalg.svd(yy.reshape(3, 5, 6).reshape(15, 6), False, True)\n",
    "yys"
   ]
  },
  {
   "cell_type": "code",
   "execution_count": 2,
   "metadata": {},
   "outputs": [],
   "source": [
    "x = np.random.randn(4,5,6,7)"
   ]
  },
  {
   "cell_type": "code",
   "execution_count": 8,
   "metadata": {},
   "outputs": [
    {
     "data": {
      "text/plain": [
       "array([17.04312444, 15.72398066, 14.68911908, 13.84685063])"
      ]
     },
     "execution_count": 8,
     "metadata": {},
     "output_type": "execute_result"
    }
   ],
   "source": [
    "u1, s1, v1 = np.linalg.svd(x.reshape(4, -1))\n",
    "s1"
   ]
  },
  {
   "cell_type": "code",
   "execution_count": 10,
   "metadata": {},
   "outputs": [
    {
     "data": {
      "text/plain": [
       "array([15.94737561, 14.44234795, 13.43961141, 12.55115964, 12.00675576])"
      ]
     },
     "execution_count": 10,
     "metadata": {},
     "output_type": "execute_result"
    }
   ],
   "source": [
    "u2, s2, v2 = np.linalg.svd(x.transpose(1,0,2,3).reshape(5, -1))\n",
    "s2"
   ]
  },
  {
   "cell_type": "code",
   "execution_count": 11,
   "metadata": {},
   "outputs": [
    {
     "data": {
      "text/plain": [
       "array([10.87767414,  9.81752283,  9.60063973,  9.21032914,  8.49475233,\n",
       "        8.02712117,  7.76283036,  7.53649355,  7.19400922,  6.74105254,\n",
       "        6.28876802,  5.37350178,  5.18062712,  4.97389234,  4.53101211,\n",
       "        4.20671   ,  3.93183054,  3.51679217,  3.13555107,  2.60171665])"
      ]
     },
     "execution_count": 11,
     "metadata": {},
     "output_type": "execute_result"
    }
   ],
   "source": [
    "u3, s3, v3 = np.linalg.svd(x.reshape(20, -1))\n",
    "s3"
   ]
  },
  {
   "cell_type": "code",
   "execution_count": 27,
   "metadata": {},
   "outputs": [
    {
     "name": "stdout",
     "output_type": "stream",
     "text": [
      "945.217150130424 945.217150130424\n",
      "10.877674138674324\n",
      "[np.float64(8.840414777550123)]\n",
      "=======\n",
      "9.817522834199766\n",
      "[np.float64(8.006103911366417), np.float64(8.15616359088748)]\n",
      "=======\n",
      "9.600639726599079\n",
      "[np.float64(7.450237719140501), np.float64(7.386428676692076), np.float64(7.61937201165122)]\n",
      "=======\n",
      "9.210329135593362\n",
      "[np.float64(6.957725197870136), np.float64(6.873586721589301), np.float64(6.900296603678309), np.float64(7.182480146322494)]\n",
      "=======\n",
      "8.494752325913643\n",
      "[np.float64(6.655935349538807), np.float64(6.419194841217059), np.float64(6.421206943991211), np.float64(6.504636246119632)]\n",
      "=======\n",
      "8.027121173334532\n",
      "[np.float64(6.140763632388467), np.float64(5.996720512711441), np.float64(6.05301740354979)]\n",
      "=======\n",
      "7.762830362490935\n",
      "[np.float64(5.736614037886803), np.float64(5.652870861237897)]\n",
      "=======\n",
      "7.536493550815116\n",
      "[np.float64(5.407678791799484)]\n",
      "=======\n",
      "7.194009221579061\n",
      "=======\n",
      "6.741052535092137\n",
      "=======\n",
      "6.28876802024243\n",
      "=======\n",
      "5.373501782606118\n",
      "=======\n",
      "5.180627118136389\n",
      "=======\n",
      "4.973892335543638\n",
      "=======\n",
      "4.531012108569131\n",
      "=======\n",
      "4.206709995301278\n",
      "=======\n",
      "3.9318305440132457\n",
      "=======\n",
      "3.5167921699055276\n",
      "=======\n",
      "3.1355510734068637\n",
      "=======\n",
      "2.60171664588165\n",
      "=======\n",
      "[np.float64(8.840414777550123), np.float64(8.006103911366417), np.float64(7.450237719140501), np.float64(6.957725197870136), np.float64(6.655935349538807), np.float64(8.15616359088748), np.float64(7.386428676692076), np.float64(6.873586721589301), np.float64(6.419194841217059), np.float64(6.140763632388467), np.float64(7.61937201165122), np.float64(6.900296603678309), np.float64(6.421206943991211), np.float64(5.996720512711441), np.float64(5.736614037886803), np.float64(7.182480146322494), np.float64(6.504636246119632), np.float64(6.05301740354979), np.float64(5.652870861237897), np.float64(5.407678791799484)]\n",
      "945.2171501304238\n",
      "945.2171501304238\n"
     ]
    }
   ],
   "source": [
    "s_map = {}\n",
    "for i, s1i in enumerate(s1):\n",
    "  for j, s2j in enumerate(s2):\n",
    "    k = i+j\n",
    "    if k not in s_map:\n",
    "      s_map[k] = []\n",
    "\n",
    "    s_map[k].append(s1i * s2j)\n",
    "\n",
    "print(np.linalg.norm(x)**2, np.sum([s**2 for s in s1]))\n",
    "results = []\n",
    "for k, s3k in enumerate(s3):\n",
    "  print(s3k)\n",
    "  if k in s_map:\n",
    "    ss = [s / np.linalg.norm(x) for s in s_map[k]]\n",
    "    results.extend(ss)\n",
    "    print(ss)\n",
    "\n",
    "  print(\"=======\")\n",
    "\n",
    "print([s1i * s2j / np.linalg.norm(x) for s1i in s1 for s2j in s2])\n",
    "print(np.sum([(s1i * s2j / np.linalg.norm(x)) ** 2 for s1i in s1 for s2j in s2]))\n",
    "print(np.sum([s ** 2 for s in results]))"
   ]
  },
  {
   "cell_type": "code",
   "execution_count": 13,
   "metadata": {},
   "outputs": [
    {
     "name": "stdout",
     "output_type": "stream",
     "text": [
      "945.217150130424\n",
      "945.2171501304236\n",
      "945.2171501304247\n"
     ]
    }
   ],
   "source": []
  },
  {
   "cell_type": "code",
   "execution_count": null,
   "metadata": {},
   "outputs": [],
   "source": []
  }
 ],
 "metadata": {
  "kernelspec": {
   "display_name": "tensor_networks",
   "language": "python",
   "name": "python3"
  },
  "language_info": {
   "codemirror_mode": {
    "name": "ipython",
    "version": 3
   },
   "file_extension": ".py",
   "mimetype": "text/x-python",
   "name": "python",
   "nbconvert_exporter": "python",
   "pygments_lexer": "ipython3",
   "version": "3.12.2"
  }
 },
 "nbformat": 4,
 "nbformat_minor": 2
}
